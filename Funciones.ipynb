{
  "nbformat": 4,
  "nbformat_minor": 0,
  "metadata": {
    "colab": {
      "name": "Funciones.ipynb",
      "provenance": [],
      "collapsed_sections": [],
      "authorship_tag": "ABX9TyO390eW0ss+XdWQP0Ceaq1p",
      "include_colab_link": true
    },
    "kernelspec": {
      "name": "python3",
      "display_name": "Python 3"
    },
    "language_info": {
      "name": "python"
    }
  },
  "cells": [
    {
      "cell_type": "markdown",
      "metadata": {
        "id": "view-in-github",
        "colab_type": "text"
      },
      "source": [
        "<a href=\"https://colab.research.google.com/github/jotagectti/PYTHON-y-R-BigData-Structuralia/blob/main/Funciones.ipynb\" target=\"_parent\"><img src=\"https://colab.research.google.com/assets/colab-badge.svg\" alt=\"Open In Colab\"/></a>"
      ]
    },
    {
      "cell_type": "markdown",
      "metadata": {
        "id": "O0VcwmvDdIlz"
      },
      "source": [
        "## **Video 9** "
      ]
    },
    {
      "cell_type": "code",
      "metadata": {
        "id": "L0kWZZ4Lkxmy"
      },
      "source": [
        "def funcion_cuadratica(a):\n",
        "  cuadratica=a**2\n",
        "  return cuadratica"
      ],
      "execution_count": 9,
      "outputs": []
    },
    {
      "cell_type": "code",
      "metadata": {
        "colab": {
          "base_uri": "https://localhost:8080/"
        },
        "id": "DPNYSu3ol5b_",
        "outputId": "99832262-a0cc-48cf-d96e-86440e89f079"
      },
      "source": [
        "funcion_cuadratica(33)"
      ],
      "execution_count": 14,
      "outputs": [
        {
          "output_type": "execute_result",
          "data": {
            "text/plain": [
              "1089"
            ]
          },
          "metadata": {},
          "execution_count": 14
        }
      ]
    },
    {
      "cell_type": "code",
      "metadata": {
        "colab": {
          "base_uri": "https://localhost:8080/"
        },
        "id": "OqxinNz-l59j",
        "outputId": "0f32efa8-d7e3-4c58-c1bb-9fdfccd806b1"
      },
      "source": [
        "def funcion_cuadrado(a):\n",
        "  return a**2\n",
        "\n",
        "funcion_cuadrado(11)"
      ],
      "execution_count": 15,
      "outputs": [
        {
          "output_type": "execute_result",
          "data": {
            "text/plain": [
              "121"
            ]
          },
          "metadata": {},
          "execution_count": 15
        }
      ]
    },
    {
      "cell_type": "code",
      "metadata": {
        "colab": {
          "base_uri": "https://localhost:8080/"
        },
        "id": "gxMIU81ll6AV",
        "outputId": "766fbe52-c931-4cf7-b901-5d7defcab616"
      },
      "source": [
        "def funcion_cuadrado(a): return a**2\n",
        "funcion_cuadrado(11)"
      ],
      "execution_count": 17,
      "outputs": [
        {
          "output_type": "execute_result",
          "data": {
            "text/plain": [
              "121"
            ]
          },
          "metadata": {},
          "execution_count": 17
        }
      ]
    },
    {
      "cell_type": "code",
      "metadata": {
        "colab": {
          "base_uri": "https://localhost:8080/"
        },
        "id": "3ScYedzNmYl1",
        "outputId": "cbc8fd96-0ad3-4353-d8d7-b087eb3c8acf"
      },
      "source": [
        "cuadrado=lambda a: a**2\n",
        "\n",
        "cuadrado(7)"
      ],
      "execution_count": 18,
      "outputs": [
        {
          "output_type": "execute_result",
          "data": {
            "text/plain": [
              "49"
            ]
          },
          "metadata": {},
          "execution_count": 18
        }
      ]
    }
  ]
}