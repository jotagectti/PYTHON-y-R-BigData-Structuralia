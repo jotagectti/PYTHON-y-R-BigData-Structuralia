{
  "nbformat": 4,
  "nbformat_minor": 0,
  "metadata": {
    "colab": {
      "name": "Funciones en R.ipynb",
      "provenance": [],
      "authorship_tag": "ABX9TyNzx6qQ6BO+YL6HY+1A+boM",
      "include_colab_link": true
    },
    "kernelspec": {
      "name": "python3",
      "display_name": "Python 3"
    },
    "language_info": {
      "name": "python"
    }
  },
  "cells": [
    {
      "cell_type": "markdown",
      "metadata": {
        "id": "view-in-github",
        "colab_type": "text"
      },
      "source": [
        "<a href=\"https://colab.research.google.com/github/jotagectti/PYTHON-y-R-BigData-Structuralia/blob/main/Funciones_en_R.ipynb\" target=\"_parent\"><img src=\"https://colab.research.google.com/assets/colab-badge.svg\" alt=\"Open In Colab\"/></a>"
      ]
    },
    {
      "cell_type": "code",
      "metadata": {
        "id": "XkpG4qZkkGos"
      },
      "source": [
        "%load_ext rpy2.ipython"
      ],
      "execution_count": 3,
      "outputs": []
    },
    {
      "cell_type": "code",
      "metadata": {
        "id": "TLx8Hg_Cmf7u"
      },
      "source": [
        "%%R\n",
        "FUNCION1 <- function(A=1,B=2){\n",
        "    SUMA <- A+B\n",
        "    }"
      ],
      "execution_count": 4,
      "outputs": []
    },
    {
      "cell_type": "code",
      "metadata": {
        "id": "yMW5jKe2mf-U"
      },
      "source": [
        "%%R\n",
        "FUNCION1(2,3)"
      ],
      "execution_count": 6,
      "outputs": []
    },
    {
      "cell_type": "code",
      "metadata": {
        "id": "CoRgYtpfmgBA"
      },
      "source": [
        "%%R\n",
        "FUNCTION1 <- function(A=1,B=2){\n",
        "    SUMA <- A+B\n",
        "    PRODUCTO <- A*B\n",
        "    list(SUMA,PRODUCTO)\n",
        "}"
      ],
      "execution_count": 10,
      "outputs": []
    },
    {
      "cell_type": "code",
      "metadata": {
        "colab": {
          "base_uri": "https://localhost:8080/"
        },
        "id": "y2cupLfjmhvi",
        "outputId": "d249993e-d45e-4638-c604-6b3c99a3217f"
      },
      "source": [
        "%%R\n",
        "FUNCTION1(2,3)"
      ],
      "execution_count": 11,
      "outputs": [
        {
          "output_type": "stream",
          "name": "stdout",
          "text": [
            "[[1]]\n",
            "[1] 5\n",
            "\n",
            "[[2]]\n",
            "[1] 6\n",
            "\n"
          ]
        }
      ]
    },
    {
      "cell_type": "code",
      "metadata": {
        "colab": {
          "base_uri": "https://localhost:8080/"
        },
        "id": "LmvTmZB9miOn",
        "outputId": "3689eeea-27b1-4fac-aefd-e5a29b98c72b"
      },
      "source": [
        "%%R\n",
        "FUNCTION1()"
      ],
      "execution_count": 13,
      "outputs": [
        {
          "output_type": "stream",
          "name": "stdout",
          "text": [
            "[[1]]\n",
            "[1] 3\n",
            "\n",
            "[[2]]\n",
            "[1] 2\n",
            "\n"
          ]
        }
      ]
    },
    {
      "cell_type": "code",
      "metadata": {
        "colab": {
          "base_uri": "https://localhost:8080/"
        },
        "id": "5q4Pmzd4miUR",
        "outputId": "8497e33f-c23e-4ded-ced4-4dd3957a7547"
      },
      "source": [
        "%%R\n",
        "FUNCTION1"
      ],
      "execution_count": 14,
      "outputs": [
        {
          "output_type": "stream",
          "name": "stdout",
          "text": [
            "function (A = 1, B = 2) \n",
            "{\n",
            "    SUMA <- A + B\n",
            "    PRODUCTO <- A * B\n",
            "    list(SUMA, PRODUCTO)\n",
            "}\n",
            "<bytecode: 0x55a565637e38>\n"
          ]
        }
      ]
    },
    {
      "cell_type": "code",
      "metadata": {
        "id": "mP-fcK6kmiWz"
      },
      "source": [
        "%%R\n",
        "FUNCTION1 <- function(A=1,B=2){\n",
        "    SUMA <- A+B\n",
        "    PRODUCTO <- A*B\n",
        "    list(SUMA=SUMA,PRODUCTO=PRODUCTO)\n",
        "}"
      ],
      "execution_count": 15,
      "outputs": []
    },
    {
      "cell_type": "code",
      "metadata": {
        "colab": {
          "base_uri": "https://localhost:8080/"
        },
        "id": "Pfy2iOfR3wGy",
        "outputId": "09d0e1da-f38d-47bb-f37e-a1232e68279c"
      },
      "source": [
        "%%R\n",
        "FUNCTION1(2,3)"
      ],
      "execution_count": 16,
      "outputs": [
        {
          "output_type": "stream",
          "name": "stdout",
          "text": [
            "$SUMA\n",
            "[1] 5\n",
            "\n",
            "$PRODUCTO\n",
            "[1] 6\n",
            "\n"
          ]
        }
      ]
    }
  ]
}