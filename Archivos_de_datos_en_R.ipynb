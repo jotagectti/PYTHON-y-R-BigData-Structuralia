{
  "nbformat": 4,
  "nbformat_minor": 0,
  "metadata": {
    "colab": {
      "name": "Archivos de datos en R.ipynb",
      "provenance": [],
      "collapsed_sections": [],
      "authorship_tag": "ABX9TyNkZkexBEDfntlXfrA2uY8P",
      "include_colab_link": true
    },
    "kernelspec": {
      "name": "python3",
      "display_name": "Python 3"
    },
    "language_info": {
      "name": "python"
    }
  },
  "cells": [
    {
      "cell_type": "markdown",
      "metadata": {
        "id": "view-in-github",
        "colab_type": "text"
      },
      "source": [
        "<a href=\"https://colab.research.google.com/github/jotagectti/PYTHON-y-R-BigData-Structuralia/blob/main/Archivos_de_datos_en_R.ipynb\" target=\"_parent\"><img src=\"https://colab.research.google.com/assets/colab-badge.svg\" alt=\"Open In Colab\"/></a>"
      ]
    },
    {
      "cell_type": "code",
      "metadata": {
        "id": "qfwx2Chi5zyD"
      },
      "source": [
        "%load_ext rpy2.ipython"
      ],
      "execution_count": 1,
      "outputs": []
    },
    {
      "cell_type": "code",
      "metadata": {
        "id": "ZdJIKsE56Is4"
      },
      "source": [
        "%%R\n",
        "setwd(\"/content/sample_data\")"
      ],
      "execution_count": 2,
      "outputs": []
    },
    {
      "cell_type": "code",
      "metadata": {
        "colab": {
          "base_uri": "https://localhost:8080/",
          "height": 612
        },
        "id": "wz3twFnd6Nr4",
        "outputId": "9f70c5dc-12e9-43f4-dff0-7e63a516b7b0"
      },
      "source": [
        "%%R\n",
        "pt <- read.table(\"poblacion.txt\",header=TRUE, sep='\\t',dec='.', row.names=1,na.strings=\"NA\")"
      ],
      "execution_count": 9,
      "outputs": [
        {
          "output_type": "stream",
          "name": "stderr",
          "text": [
            "R[write to console]: Error in scan(file = file, what = what, sep = sep, quote = quote, dec = dec,  : \n",
            "  line 5 did not have 5 elements\n",
            "\n"
          ]
        },
        {
          "output_type": "stream",
          "name": "stdout",
          "text": [
            "\n",
            "Error in scan(file = file, what = what, sep = sep, quote = quote, dec = dec,  : \n",
            "  line 5 did not have 5 elements\n"
          ]
        },
        {
          "output_type": "error",
          "ename": "RInterpreterError",
          "evalue": "ignored",
          "traceback": [
            "\u001b[0;31m---------------------------------------------------------------------------\u001b[0m",
            "\u001b[0;31mRRuntimeError\u001b[0m                             Traceback (most recent call last)",
            "\u001b[0;32m/usr/local/lib/python3.7/dist-packages/rpy2/ipython/rmagic.py\u001b[0m in \u001b[0;36meval\u001b[0;34m(self, code)\u001b[0m\n\u001b[1;32m    267\u001b[0m                 \u001b[0;31m# Need the newline in case the last line in code is a comment.\u001b[0m\u001b[0;34m\u001b[0m\u001b[0;34m\u001b[0m\u001b[0;34m\u001b[0m\u001b[0m\n\u001b[0;32m--> 268\u001b[0;31m                 \u001b[0mvalue\u001b[0m\u001b[0;34m,\u001b[0m \u001b[0mvisible\u001b[0m \u001b[0;34m=\u001b[0m \u001b[0mro\u001b[0m\u001b[0;34m.\u001b[0m\u001b[0mr\u001b[0m\u001b[0;34m(\u001b[0m\u001b[0;34m\"withVisible({%s\\n})\"\u001b[0m \u001b[0;34m%\u001b[0m \u001b[0mcode\u001b[0m\u001b[0;34m)\u001b[0m\u001b[0;34m\u001b[0m\u001b[0;34m\u001b[0m\u001b[0m\n\u001b[0m\u001b[1;32m    269\u001b[0m             \u001b[0;32mexcept\u001b[0m \u001b[0;34m(\u001b[0m\u001b[0mri\u001b[0m\u001b[0;34m.\u001b[0m\u001b[0membedded\u001b[0m\u001b[0;34m.\u001b[0m\u001b[0mRRuntimeError\u001b[0m\u001b[0;34m,\u001b[0m \u001b[0mValueError\u001b[0m\u001b[0;34m)\u001b[0m \u001b[0;32mas\u001b[0m \u001b[0mexception\u001b[0m\u001b[0;34m:\u001b[0m\u001b[0;34m\u001b[0m\u001b[0;34m\u001b[0m\u001b[0m\n",
            "\u001b[0;32m/usr/local/lib/python3.7/dist-packages/rpy2/robjects/__init__.py\u001b[0m in \u001b[0;36m__call__\u001b[0;34m(self, string)\u001b[0m\n\u001b[1;32m    437\u001b[0m         \u001b[0mp\u001b[0m \u001b[0;34m=\u001b[0m \u001b[0mrinterface\u001b[0m\u001b[0;34m.\u001b[0m\u001b[0mparse\u001b[0m\u001b[0;34m(\u001b[0m\u001b[0mstring\u001b[0m\u001b[0;34m)\u001b[0m\u001b[0;34m\u001b[0m\u001b[0;34m\u001b[0m\u001b[0m\n\u001b[0;32m--> 438\u001b[0;31m         \u001b[0mres\u001b[0m \u001b[0;34m=\u001b[0m \u001b[0mself\u001b[0m\u001b[0;34m.\u001b[0m\u001b[0meval\u001b[0m\u001b[0;34m(\u001b[0m\u001b[0mp\u001b[0m\u001b[0;34m)\u001b[0m\u001b[0;34m\u001b[0m\u001b[0;34m\u001b[0m\u001b[0m\n\u001b[0m\u001b[1;32m    439\u001b[0m         \u001b[0;32mreturn\u001b[0m \u001b[0mconversion\u001b[0m\u001b[0;34m.\u001b[0m\u001b[0mrpy2py\u001b[0m\u001b[0;34m(\u001b[0m\u001b[0mres\u001b[0m\u001b[0;34m)\u001b[0m\u001b[0;34m\u001b[0m\u001b[0;34m\u001b[0m\u001b[0m\n",
            "\u001b[0;32m/usr/local/lib/python3.7/dist-packages/rpy2/robjects/functions.py\u001b[0m in \u001b[0;36m__call__\u001b[0;34m(self, *args, **kwargs)\u001b[0m\n\u001b[1;32m    198\u001b[0m         return (super(SignatureTranslatedFunction, self)\n\u001b[0;32m--> 199\u001b[0;31m                 .__call__(*args, **kwargs))\n\u001b[0m\u001b[1;32m    200\u001b[0m \u001b[0;34m\u001b[0m\u001b[0m\n",
            "\u001b[0;32m/usr/local/lib/python3.7/dist-packages/rpy2/robjects/functions.py\u001b[0m in \u001b[0;36m__call__\u001b[0;34m(self, *args, **kwargs)\u001b[0m\n\u001b[1;32m    124\u001b[0m                 \u001b[0mnew_kwargs\u001b[0m\u001b[0;34m[\u001b[0m\u001b[0mk\u001b[0m\u001b[0;34m]\u001b[0m \u001b[0;34m=\u001b[0m \u001b[0mconversion\u001b[0m\u001b[0;34m.\u001b[0m\u001b[0mpy2rpy\u001b[0m\u001b[0;34m(\u001b[0m\u001b[0mv\u001b[0m\u001b[0;34m)\u001b[0m\u001b[0;34m\u001b[0m\u001b[0;34m\u001b[0m\u001b[0m\n\u001b[0;32m--> 125\u001b[0;31m         \u001b[0mres\u001b[0m \u001b[0;34m=\u001b[0m \u001b[0msuper\u001b[0m\u001b[0;34m(\u001b[0m\u001b[0mFunction\u001b[0m\u001b[0;34m,\u001b[0m \u001b[0mself\u001b[0m\u001b[0;34m)\u001b[0m\u001b[0;34m.\u001b[0m\u001b[0m__call__\u001b[0m\u001b[0;34m(\u001b[0m\u001b[0;34m*\u001b[0m\u001b[0mnew_args\u001b[0m\u001b[0;34m,\u001b[0m \u001b[0;34m**\u001b[0m\u001b[0mnew_kwargs\u001b[0m\u001b[0;34m)\u001b[0m\u001b[0;34m\u001b[0m\u001b[0;34m\u001b[0m\u001b[0m\n\u001b[0m\u001b[1;32m    126\u001b[0m         \u001b[0mres\u001b[0m \u001b[0;34m=\u001b[0m \u001b[0mconversion\u001b[0m\u001b[0;34m.\u001b[0m\u001b[0mrpy2py\u001b[0m\u001b[0;34m(\u001b[0m\u001b[0mres\u001b[0m\u001b[0;34m)\u001b[0m\u001b[0;34m\u001b[0m\u001b[0;34m\u001b[0m\u001b[0m\n",
            "\u001b[0;32m/usr/local/lib/python3.7/dist-packages/rpy2/rinterface_lib/conversion.py\u001b[0m in \u001b[0;36m_\u001b[0;34m(*args, **kwargs)\u001b[0m\n\u001b[1;32m     44\u001b[0m     \u001b[0;32mdef\u001b[0m \u001b[0m_\u001b[0m\u001b[0;34m(\u001b[0m\u001b[0;34m*\u001b[0m\u001b[0margs\u001b[0m\u001b[0;34m,\u001b[0m \u001b[0;34m**\u001b[0m\u001b[0mkwargs\u001b[0m\u001b[0;34m)\u001b[0m\u001b[0;34m:\u001b[0m\u001b[0;34m\u001b[0m\u001b[0;34m\u001b[0m\u001b[0m\n\u001b[0;32m---> 45\u001b[0;31m         \u001b[0mcdata\u001b[0m \u001b[0;34m=\u001b[0m \u001b[0mfunction\u001b[0m\u001b[0;34m(\u001b[0m\u001b[0;34m*\u001b[0m\u001b[0margs\u001b[0m\u001b[0;34m,\u001b[0m \u001b[0;34m**\u001b[0m\u001b[0mkwargs\u001b[0m\u001b[0;34m)\u001b[0m\u001b[0;34m\u001b[0m\u001b[0;34m\u001b[0m\u001b[0m\n\u001b[0m\u001b[1;32m     46\u001b[0m         \u001b[0;31m# TODO: test cdata is of the expected CType\u001b[0m\u001b[0;34m\u001b[0m\u001b[0;34m\u001b[0m\u001b[0;34m\u001b[0m\u001b[0m\n",
            "\u001b[0;32m/usr/local/lib/python3.7/dist-packages/rpy2/rinterface.py\u001b[0m in \u001b[0;36m__call__\u001b[0;34m(self, *args, **kwargs)\u001b[0m\n\u001b[1;32m    679\u001b[0m             \u001b[0;32mif\u001b[0m \u001b[0merror_occured\u001b[0m\u001b[0;34m[\u001b[0m\u001b[0;36m0\u001b[0m\u001b[0;34m]\u001b[0m\u001b[0;34m:\u001b[0m\u001b[0;34m\u001b[0m\u001b[0;34m\u001b[0m\u001b[0m\n\u001b[0;32m--> 680\u001b[0;31m                 \u001b[0;32mraise\u001b[0m \u001b[0membedded\u001b[0m\u001b[0;34m.\u001b[0m\u001b[0mRRuntimeError\u001b[0m\u001b[0;34m(\u001b[0m\u001b[0m_rinterface\u001b[0m\u001b[0;34m.\u001b[0m\u001b[0m_geterrmessage\u001b[0m\u001b[0;34m(\u001b[0m\u001b[0;34m)\u001b[0m\u001b[0;34m)\u001b[0m\u001b[0;34m\u001b[0m\u001b[0;34m\u001b[0m\u001b[0m\n\u001b[0m\u001b[1;32m    681\u001b[0m         \u001b[0;32mreturn\u001b[0m \u001b[0mres\u001b[0m\u001b[0;34m\u001b[0m\u001b[0;34m\u001b[0m\u001b[0m\n",
            "\u001b[0;31mRRuntimeError\u001b[0m: Error in scan(file = file, what = what, sep = sep, quote = quote, dec = dec,  : \n  line 5 did not have 5 elements\n",
            "\nDuring handling of the above exception, another exception occurred:\n",
            "\u001b[0;31mRInterpreterError\u001b[0m                         Traceback (most recent call last)",
            "\u001b[0;32m<ipython-input-9-9a503fb058c6>\u001b[0m in \u001b[0;36m<module>\u001b[0;34m()\u001b[0m\n\u001b[0;32m----> 1\u001b[0;31m \u001b[0mget_ipython\u001b[0m\u001b[0;34m(\u001b[0m\u001b[0;34m)\u001b[0m\u001b[0;34m.\u001b[0m\u001b[0mrun_cell_magic\u001b[0m\u001b[0;34m(\u001b[0m\u001b[0;34m'R'\u001b[0m\u001b[0;34m,\u001b[0m \u001b[0;34m''\u001b[0m\u001b[0;34m,\u001b[0m \u001b[0;34m'pt <- read.table(\"poblacion.txt\",header=TRUE, sep=\\'\\\\t\\',dec=\\'.\\', row.names=1,na.strings=\"NA\")'\u001b[0m\u001b[0;34m)\u001b[0m\u001b[0;34m\u001b[0m\u001b[0;34m\u001b[0m\u001b[0m\n\u001b[0m",
            "\u001b[0;32m/usr/local/lib/python3.7/dist-packages/IPython/core/interactiveshell.py\u001b[0m in \u001b[0;36mrun_cell_magic\u001b[0;34m(self, magic_name, line, cell)\u001b[0m\n\u001b[1;32m   2115\u001b[0m             \u001b[0mmagic_arg_s\u001b[0m \u001b[0;34m=\u001b[0m \u001b[0mself\u001b[0m\u001b[0;34m.\u001b[0m\u001b[0mvar_expand\u001b[0m\u001b[0;34m(\u001b[0m\u001b[0mline\u001b[0m\u001b[0;34m,\u001b[0m \u001b[0mstack_depth\u001b[0m\u001b[0;34m)\u001b[0m\u001b[0;34m\u001b[0m\u001b[0;34m\u001b[0m\u001b[0m\n\u001b[1;32m   2116\u001b[0m             \u001b[0;32mwith\u001b[0m \u001b[0mself\u001b[0m\u001b[0;34m.\u001b[0m\u001b[0mbuiltin_trap\u001b[0m\u001b[0;34m:\u001b[0m\u001b[0;34m\u001b[0m\u001b[0;34m\u001b[0m\u001b[0m\n\u001b[0;32m-> 2117\u001b[0;31m                 \u001b[0mresult\u001b[0m \u001b[0;34m=\u001b[0m \u001b[0mfn\u001b[0m\u001b[0;34m(\u001b[0m\u001b[0mmagic_arg_s\u001b[0m\u001b[0;34m,\u001b[0m \u001b[0mcell\u001b[0m\u001b[0;34m)\u001b[0m\u001b[0;34m\u001b[0m\u001b[0;34m\u001b[0m\u001b[0m\n\u001b[0m\u001b[1;32m   2118\u001b[0m             \u001b[0;32mreturn\u001b[0m \u001b[0mresult\u001b[0m\u001b[0;34m\u001b[0m\u001b[0;34m\u001b[0m\u001b[0m\n\u001b[1;32m   2119\u001b[0m \u001b[0;34m\u001b[0m\u001b[0m\n",
            "\u001b[0;32m<decorator-gen-119>\u001b[0m in \u001b[0;36mR\u001b[0;34m(self, line, cell, local_ns)\u001b[0m\n",
            "\u001b[0;32m/usr/local/lib/python3.7/dist-packages/IPython/core/magic.py\u001b[0m in \u001b[0;36m<lambda>\u001b[0;34m(f, *a, **k)\u001b[0m\n\u001b[1;32m    186\u001b[0m     \u001b[0;31m# but it's overkill for just that one bit of state.\u001b[0m\u001b[0;34m\u001b[0m\u001b[0;34m\u001b[0m\u001b[0;34m\u001b[0m\u001b[0m\n\u001b[1;32m    187\u001b[0m     \u001b[0;32mdef\u001b[0m \u001b[0mmagic_deco\u001b[0m\u001b[0;34m(\u001b[0m\u001b[0marg\u001b[0m\u001b[0;34m)\u001b[0m\u001b[0;34m:\u001b[0m\u001b[0;34m\u001b[0m\u001b[0;34m\u001b[0m\u001b[0m\n\u001b[0;32m--> 188\u001b[0;31m         \u001b[0mcall\u001b[0m \u001b[0;34m=\u001b[0m \u001b[0;32mlambda\u001b[0m \u001b[0mf\u001b[0m\u001b[0;34m,\u001b[0m \u001b[0;34m*\u001b[0m\u001b[0ma\u001b[0m\u001b[0;34m,\u001b[0m \u001b[0;34m**\u001b[0m\u001b[0mk\u001b[0m\u001b[0;34m:\u001b[0m \u001b[0mf\u001b[0m\u001b[0;34m(\u001b[0m\u001b[0;34m*\u001b[0m\u001b[0ma\u001b[0m\u001b[0;34m,\u001b[0m \u001b[0;34m**\u001b[0m\u001b[0mk\u001b[0m\u001b[0;34m)\u001b[0m\u001b[0;34m\u001b[0m\u001b[0;34m\u001b[0m\u001b[0m\n\u001b[0m\u001b[1;32m    189\u001b[0m \u001b[0;34m\u001b[0m\u001b[0m\n\u001b[1;32m    190\u001b[0m         \u001b[0;32mif\u001b[0m \u001b[0mcallable\u001b[0m\u001b[0;34m(\u001b[0m\u001b[0marg\u001b[0m\u001b[0;34m)\u001b[0m\u001b[0;34m:\u001b[0m\u001b[0;34m\u001b[0m\u001b[0;34m\u001b[0m\u001b[0m\n",
            "\u001b[0;32m/usr/local/lib/python3.7/dist-packages/rpy2/ipython/rmagic.py\u001b[0m in \u001b[0;36mR\u001b[0;34m(self, line, cell, local_ns)\u001b[0m\n\u001b[1;32m    781\u001b[0m             \u001b[0;32mif\u001b[0m \u001b[0;32mnot\u001b[0m \u001b[0me\u001b[0m\u001b[0;34m.\u001b[0m\u001b[0mstdout\u001b[0m\u001b[0;34m.\u001b[0m\u001b[0mendswith\u001b[0m\u001b[0;34m(\u001b[0m\u001b[0me\u001b[0m\u001b[0;34m.\u001b[0m\u001b[0merr\u001b[0m\u001b[0;34m)\u001b[0m\u001b[0;34m:\u001b[0m\u001b[0;34m\u001b[0m\u001b[0;34m\u001b[0m\u001b[0m\n\u001b[1;32m    782\u001b[0m                 \u001b[0mprint\u001b[0m\u001b[0;34m(\u001b[0m\u001b[0me\u001b[0m\u001b[0;34m.\u001b[0m\u001b[0merr\u001b[0m\u001b[0;34m)\u001b[0m\u001b[0;34m\u001b[0m\u001b[0;34m\u001b[0m\u001b[0m\n\u001b[0;32m--> 783\u001b[0;31m             \u001b[0;32mraise\u001b[0m \u001b[0me\u001b[0m\u001b[0;34m\u001b[0m\u001b[0;34m\u001b[0m\u001b[0m\n\u001b[0m\u001b[1;32m    784\u001b[0m         \u001b[0;32mfinally\u001b[0m\u001b[0;34m:\u001b[0m\u001b[0;34m\u001b[0m\u001b[0;34m\u001b[0m\u001b[0m\n\u001b[1;32m    785\u001b[0m             \u001b[0;32mif\u001b[0m \u001b[0mself\u001b[0m\u001b[0;34m.\u001b[0m\u001b[0mdevice\u001b[0m \u001b[0;32min\u001b[0m \u001b[0;34m[\u001b[0m\u001b[0;34m'png'\u001b[0m\u001b[0;34m,\u001b[0m \u001b[0;34m'svg'\u001b[0m\u001b[0;34m]\u001b[0m\u001b[0;34m:\u001b[0m\u001b[0;34m\u001b[0m\u001b[0;34m\u001b[0m\u001b[0m\n",
            "\u001b[0;32m/usr/local/lib/python3.7/dist-packages/rpy2/ipython/rmagic.py\u001b[0m in \u001b[0;36mR\u001b[0;34m(self, line, cell, local_ns)\u001b[0m\n\u001b[1;32m    761\u001b[0m                     \u001b[0mreturn_output\u001b[0m \u001b[0;34m=\u001b[0m \u001b[0;32mFalse\u001b[0m\u001b[0;34m\u001b[0m\u001b[0;34m\u001b[0m\u001b[0m\n\u001b[1;32m    762\u001b[0m             \u001b[0;32melse\u001b[0m\u001b[0;34m:\u001b[0m\u001b[0;34m\u001b[0m\u001b[0;34m\u001b[0m\u001b[0m\n\u001b[0;32m--> 763\u001b[0;31m                 \u001b[0mtext_result\u001b[0m\u001b[0;34m,\u001b[0m \u001b[0mresult\u001b[0m\u001b[0;34m,\u001b[0m \u001b[0mvisible\u001b[0m \u001b[0;34m=\u001b[0m \u001b[0mself\u001b[0m\u001b[0;34m.\u001b[0m\u001b[0meval\u001b[0m\u001b[0;34m(\u001b[0m\u001b[0mcode\u001b[0m\u001b[0;34m)\u001b[0m\u001b[0;34m\u001b[0m\u001b[0;34m\u001b[0m\u001b[0m\n\u001b[0m\u001b[1;32m    764\u001b[0m                 \u001b[0mtext_output\u001b[0m \u001b[0;34m+=\u001b[0m \u001b[0mtext_result\u001b[0m\u001b[0;34m\u001b[0m\u001b[0;34m\u001b[0m\u001b[0m\n\u001b[1;32m    765\u001b[0m                 \u001b[0;32mif\u001b[0m \u001b[0mvisible\u001b[0m\u001b[0;34m:\u001b[0m\u001b[0;34m\u001b[0m\u001b[0;34m\u001b[0m\u001b[0m\n",
            "\u001b[0;32m/usr/local/lib/python3.7/dist-packages/rpy2/ipython/rmagic.py\u001b[0m in \u001b[0;36meval\u001b[0;34m(self, code)\u001b[0m\n\u001b[1;32m    271\u001b[0m                 \u001b[0mwarning_or_other_msg\u001b[0m \u001b[0;34m=\u001b[0m \u001b[0mself\u001b[0m\u001b[0;34m.\u001b[0m\u001b[0mflush\u001b[0m\u001b[0;34m(\u001b[0m\u001b[0;34m)\u001b[0m\u001b[0;34m\u001b[0m\u001b[0;34m\u001b[0m\u001b[0m\n\u001b[1;32m    272\u001b[0m                 raise RInterpreterError(code, str(exception),\n\u001b[0;32m--> 273\u001b[0;31m                                         warning_or_other_msg)\n\u001b[0m\u001b[1;32m    274\u001b[0m             \u001b[0mtext_output\u001b[0m \u001b[0;34m=\u001b[0m \u001b[0mself\u001b[0m\u001b[0;34m.\u001b[0m\u001b[0mflush\u001b[0m\u001b[0;34m(\u001b[0m\u001b[0;34m)\u001b[0m\u001b[0;34m\u001b[0m\u001b[0;34m\u001b[0m\u001b[0m\n\u001b[1;32m    275\u001b[0m             \u001b[0;32mreturn\u001b[0m \u001b[0mtext_output\u001b[0m\u001b[0;34m,\u001b[0m \u001b[0mvalue\u001b[0m\u001b[0;34m,\u001b[0m \u001b[0mvisible\u001b[0m\u001b[0;34m[\u001b[0m\u001b[0;36m0\u001b[0m\u001b[0;34m]\u001b[0m\u001b[0;34m\u001b[0m\u001b[0;34m\u001b[0m\u001b[0m\n",
            "\u001b[0;31mRInterpreterError\u001b[0m: Failed to parse and evaluate line 'pt <- read.table(\"poblacion.txt\",header=TRUE, sep=\\'\\\\t\\',dec=\\'.\\', row.names=1,na.strings=\"NA\")'.\nR error message: 'Error in scan(file = file, what = what, sep = sep, quote = quote, dec = dec,  : \\n  line 5 did not have 5 elements'"
          ]
        }
      ]
    },
    {
      "cell_type": "code",
      "metadata": {
        "id": "N9wBiSI_6NvQ"
      },
      "source": [
        "%%R\n",
        "ptfiletest <- read.table(\"poblacion.txt\",header=TRUE,fill=TRUE)"
      ],
      "execution_count": 12,
      "outputs": []
    },
    {
      "cell_type": "code",
      "metadata": {
        "colab": {
          "base_uri": "https://localhost:8080/"
        },
        "id": "ak3O9G_H6NyI",
        "outputId": "76c8efd1-5ec7-4199-a7f2-b22ab5253fb5"
      },
      "source": [
        "%%R\n",
        "ptfiletest"
      ],
      "execution_count": 13,
      "outputs": [
        {
          "output_type": "stream",
          "name": "stdout",
          "text": [
            "                                 Continente Extension   Pob1950    Pob2000\n",
            "Afghanistan                            Asia    647500   8150368   25888797\n",
            "Albania                              Europe     28748   1227156    3490435\n",
            "Algeria                              Africa   2381740   8892718   31193917\n",
            "American Samoa                      Oceania       199     19100      65446\n",
            "Andorra                              Europe       468      6176      66824\n",
            "Angola                               Africa   1246700   4117617   10132376\n",
            "Anguilla                            America       102      5219      11797\n",
            "Antigua                             America       443     45816      66464\n",
            "Argentina                           America   2766890  17150336   37497728\n",
            "Armenia                                Asia     29800   1355269    3344336\n",
            "Aruba                               America       193     49712      69539\n",
            "Australia                           Oceania   7686850   8267337   19164620\n",
            "Austria                              Europe     83858   6935100    8131111\n",
            "Azerbaijan                             Asia     86600   2885332    7748163\n",
            "Bahamas                             America     13940     70498     290075\n",
            "Bahrain                                Asia       665    114840     634137\n",
            "Bangladesh                             Asia    144000  45645964  130406594\n",
            "Barbados                            America       431    210666     273894\n",
            "Belarus                              Europe    207600   7722155   10366719\n",
            "Belgium                              Europe     30510   8639369   10241506\n",
            "Belize                              America     22966     65797     247009\n",
            "Benin                                Africa    112620   1672661    6428396\n",
            "Bermuda                             Oceania        53     38869      62971\n",
            "Bhutan                                 Asia     47000    734000    2005222\n",
            "Bolivia                             America   1098580   2766028    8152620\n",
            "Bosnia and Herzegovina               Europe     51129   2662000    3835777\n",
            "Botswana                             Africa    600370    430413    1577739\n",
            "Brazil                              America   8511965  53443075  175552771\n",
            "Brunei                                 Asia      5770     44983     336376\n",
            "Bulgaria                             Europe    110910   7250500    7796694\n",
            "Burkina Faso                         Africa    274200   4376162   12217363\n",
            "Burma                                  Asia    678500  19487657   41771657\n",
            "Burundi                              Africa     27830   2362522    5713711\n",
            "Cambodia                               Asia    181040   4163023   12432869\n",
            "Cameroon                             Africa    475440   4887591   14791629\n",
            "Canada                              America   9976140  14011422   31278097\n",
            "Cape Verde                           Africa      4033    146403     401343\n",
            "Cayman Islands                      America       262      6286      38410\n",
            "Central African Republic             Africa    622984   1259816    3501489\n",
            "Chad                                 Africa   1284000   2607769    8418864\n",
            "Chile                               America    756950   6090833   15153797\n",
            "China                                  Asia   9596960 562579779 1262474301\n",
            "Colombia                            America   1138910  11591658   39685655\n",
            "Comoros                              Africa      2170    148057     578400\n",
            "Cook Islands                        Oceania       240     14575      20407\n",
            "Costa Rica                          America     51100    866982    3710558\n",
            "Cote d'Ivoire                        Africa    322460   2860288   15865601\n",
            "Croatia                              Europe     56542   3837297    4282216\n",
            "Cuba                                America    110860   5784797   11141997\n",
            "Cyprus                                 Asia      9250    494000     758363\n",
            "Czech Republic                       Europe     78866   8925122   10272179\n",
            "Democratic Republic of the Congo     Africa   2345410  13568762   51809830\n",
            "Denmark                              Europe     43094   4271000    5336394\n",
            "Djibouti                             Africa     23000     60036     430822\n",
            "Dominica                            America       754     51423      71540\n",
            "Dominican Republic                  America     48730   2352968    8353525\n",
            "East Timor                             Asia     15007    435529     846599\n",
            "Ecuador                             America    283560   3369955   12920092\n",
            "Egypt                                Africa   1001450  21197691   70492342\n",
            "El Salvador                         America     21040   1939800    6122515\n",
            "Equatorial Guinea                    Africa     28051    211204     474214\n",
            "Eritrea                              Africa    121320   1402510    4243185\n",
            "Estonia                              Europe     45226   1095610    1431471\n",
            "Ethiopia                             Africa   1127127  20174562   62651398\n",
            "Faroe Islands                        Europe      1399     31500      45296\n",
            "Federated States of Micronesia      Oceania       702     30715     133144\n",
            "Fiji                                Oceania     18270    287348     832494\n",
            "Finland                              Europe    337030   4008900    5167486\n",
            "France                               Europe    547030  41828673   59381628\n",
            "French Guiana                       America     91000     25516     172605\n",
            "French Polynesia                    Oceania      4167     62100     249110\n",
            "Gabon                                Africa    267667    415767    1222938\n",
            "Gambia                               Africa     11300    271369    1367124\n",
            "Gaza Strip                             Asia       360    245375    1132063\n",
            "Georgia                                Asia     69700   3515602    5019538\n",
            "Germany                              Europe    357021  68374572   82187909\n",
            "Ghana                                Africa    239460   5297454   19509240\n",
            "Gibraltar                            Europe         6     22974      27578\n",
            "Greece                               Europe    131940   7566028   10601527\n",
            "Greenland                           America   2166086     22300      56309\n",
            "Grenada                             America       344     75806      89312\n",
            "Guadeloupe                          America      1780    208080     426493\n",
            "Guam                                Oceania       549     59900     154623\n",
            "Guatemala                           America    108890   2968976   12820296\n",
            "Guernsey                             Europe        78     45347      64080\n",
            "Guinea                               Africa    245857   2585509    8641965\n",
            "Guinea-Bissau                        Africa     36120    573268    1278259\n",
            "Guyana                              America    214970    427971     698110\n",
            "Haiti                               America     27750   3097220    7177115\n",
            "Honduras                            America    112090   1431447    6200898\n",
            "Hong Kong                              Asia      1092   2237000    7115620\n",
            "Hungary                              Europe     93030   9338000   10138844\n",
            "Iceland                              Europe    103000    142938     276365\n",
            "India                                  Asia   3287590 369880000 1002708291\n",
            "Indonesia                              Asia   1919440  82978392  224138438\n",
            "Iran                                   Asia   1648000  16357000   66005872\n",
            "Iraq                                   Asia    437072   5163443   22675617\n",
            "Ireland                              Europe     70280   2963018    3797257\n",
            "Israel                                 Asia     20770   1286131    5842454\n",
            "Italy                                Europe    301230  47105000   57719337\n",
            "Jamaica                             America     10991   1384550    2652689\n",
            "Japan                                  Asia    377835  83805000  126699784\n",
            "Jersey                               Europe       116     56824      88915\n",
            "Jordan                                 Asia     92300    561254    4998564\n",
            "Kazakhstan                             Asia   2717300   6693230   16733227\n",
            "Kenya                                Africa    582650   6121184   30310235\n",
            "Kiribati                            Oceania       811     33448      91985\n",
            "Kuwait                                 Asia     17820    144774    1973572\n",
            "Kyrgyzstan                             Asia    198500   1738961    4685230\n",
            "Laos                                   Asia    236800   1885984    5497733\n",
            "Latvia                               Europe     64589   1936498    2404926\n",
            "Lebanon                                Asia     10400   1364030    3578036\n",
            "Lesotho                              Africa     30355    726182    1846827\n",
            "Liberia                              Africa    111370    823885    3148999\n",
            "Libya                                Africa   1759540    961305    5115450\n",
            "Liechtenstein                        Europe       160     13500      32204\n",
            "Lithuania                            Europe     65200   2553159    3620756\n",
            "Luxembourg                           Europe      2586    295587     437389\n",
            "Macao                                  Asia        25    205442     445594\n",
            "Macedonia                            Europe     25333   1224627    2041467\n",
            "Madagascar                           Africa    587040   4620437   15506472\n",
            "Malawi                               Africa    118480   2816600   10873591\n",
            "Malaysia                               Asia    329750   6433799   21793293\n",
            "Maldives                               Asia       300     79293     301475\n",
            "Mali                                 Africa   1240000   3687654   10665383\n",
            "Malta                                Europe       316    311973     391670\n",
            "Man, Isle of                         Europe       572     54759      73112\n",
            "Marshall Islands                    Oceania       181     10904      53064\n",
            "Martinique                          America      1100    216618     414516\n",
            "Mauritania                           Africa   1030700   1005595    2667859\n",
            "Mauritius                            Africa      2040    481270    1179368\n",
            "Mayotte                              Africa       374     21597     155911\n",
            "Mexico                              America   1972550  28485180  100349766\n",
            "Moldova                              Europe     33843   2336432    4430654\n",
            "Monaco                               Europe         2     18125      31693\n",
            "Mongolia                               Asia   1565000    778555    2600835\n",
            "Montserrat                          America       102     13480       6409\n",
            "Morocco                              Africa    446550   9343384   30122350\n",
            "Mozambique                           Africa    801590   6250443   16934319\n",
            "Namibia                              Africa    825418    463729    1826279\n",
            "Nauru                               Oceania        21      3432      11845\n",
            "Nepal                                  Asia    140800   8989915   24702119\n",
            "Netherlands                          Europe     41526  10113527   15892237\n",
            "Netherlands Antilles                America       960    109641     210134\n",
            "New Caledonia                       Oceania     19060     55069     201816\n",
            "New Zealand                         Oceania    268680   1908310    3819762\n",
            "Nicaragua                           America    129494   1097916    4812569\n",
            "Niger                                Africa   1267000   2481525   10173661\n",
            "Nigeria                              Africa    923768  31796939  123749589\n",
            "Northern Mariana Islands            Oceania       477      6286      71912\n",
            "North Korea                            Asia    120540   9471140   21647682\n",
            "Norway                               Europe    324220   3265126    4481162\n",
            "Oman                                   Asia    212460    488588    2533389\n",
            "Pakistan                               Asia    803940  39448232  141553775\n",
            "Palau                               Oceania       458      7251      18766\n",
            "Panama                              America     78200    892502    2836298\n",
            "Papua New Guinea                    Oceania    462840   1412466    4926984\n",
            "Paraguay                            America    406750   1475669    5585828\n",
            "Peru                                America   1285220   7632500   27012899\n",
            "Philippines                            Asia    300000  21131264   79739825\n",
            "Poland                               Europe    312685  24824000   38646023\n",
            "Portugal                             Europe     92391   8442750   10048232\n",
            "Puerto Rico                         America      9104   2218000    3815893\n",
            "Qatar                                  Asia     11437     25101     744483\n",
            "Republic of the Congo                Africa    342000    767838    2809476\n",
            "Reunion                              Africa      2517    243700     720934\n",
            "Romania                              Europe    237500  16311000   22411121\n",
            "Russia                                 Asia  17075200 101936816  146001176\n",
            "Rwanda                               Africa     26338   2439435    7404703\n",
            "Saint Helena                         Africa       410      5248       7212\n",
            "Saint Pierre and Miquelon           America       242      4594       6896\n",
            "Samoa                               Oceania      2944     81858     179466\n",
            "San Marino                           Europe        61     12780      26937\n",
            "Sao Tome and Principe                Africa      1001     59730     159883\n",
            "Saudi Arabia                           Asia   1960582   3859801   22023506\n",
            "Senegal                              Africa    196190   2653637    9784325\n",
            "Seychelles                           Africa       455     32903      79326\n",
            "Sierra Leone                         Africa     71740   2087055    5202659\n",
            "Singapore                              Asia       692   1022100    4151720\n",
            "Slovakia                             Europe     48845   3463446    5407956\n",
            "Slovenia                             Europe     20273   1467759    1927593\n",
            "Solomon Islands                     Oceania     28450    106647     466194\n",
            "Somalia                              Africa    637657   2437932    7253137\n",
            "South Africa                         Africa   1219912  13595840   42351345\n",
            "South Korea                            Asia     98480  20845771   47261283\n",
            "Spain                                Europe    504782  28062963   40016081\n",
            "Sri Lanka                              Asia     65610   7533097   19238575\n",
            "St. Kitts & Nevis                   America       261     44341      38819\n",
            "St. Lucia                           America       616     79050     156260\n",
            "St. Vincent & the Grenadines        America       389     66452     115461\n",
            "Sudan                                Africa   2505810   8051151   35079814\n",
            "Suriname                            America    163270    208068     429323\n",
            "Swaziland                            Africa     17363    277384    1120183\n",
            "Sweden                               Europe    449964   7014005    8873052\n",
            "Switzerland                          Europe     41290   4694000    7262372\n",
            "Syria                                  Asia    185180   3495000   16305659\n",
            "Taiwan                                 Asia     35980   7981454   22151237\n",
            "Tajikistan                             Asia    143100   1530047    6440732\n",
            "Tanzania                             Africa    945087   7934924   33767567\n",
            "Thailand                               Asia    514000  20041628   62352043\n",
            "Togo                                 Africa     56785   1171897    5032783\n",
            "Tonga                               Oceania       748     45744     102321\n",
            "Trinidad & Tobago                   America      5128    632000    1125066\n",
            "Tunisia                              Africa    163610   3517210    9593402\n",
            "Turkey                                 Asia    780580  21121639   65666677\n",
            "Turkmenistan                           Asia    488100   1204075    4518268\n",
            "Turks & Caicos                      America       430      5037      17502\n",
            "Tuvalu                              Oceania        26      4676      10838\n",
            "Uganda                               Africa    236040   5521758   23495923\n",
            "Ukraine                              Europe    603700  36774854   49153027\n",
            "United Arab Emirates                   Asia     82880     71520    2369153\n",
            "United Kingdom                       Europe   2448820  50127000   59522468\n",
            "United States                       America   9629091 152271000  282338631\n",
            "Uruguay                             America    176220   2194275    3334074\n",
            "Uzbekistan                             Asia    447400   6292797   24755519\n",
            "Vanuatu                             Oceania     12200     52000     189618\n",
            "Venezuela                           America    912050   5009006   23542649\n",
            "Vietnam                                Asia    329560  25348144   78517582\n",
            "Virgin Islands                      America       352     26900     120917\n",
            "Virgin Islands, British             America       153      6243      20353\n",
            "Wallis and Futuna                   Oceania       274      6962      15283\n",
            "West Bank                              Asia      5860    771165    2020298\n",
            "Western Sahara                       Africa    266000      7326     244943\n",
            "Yemen                                  Asia    527970   4777089   17479206\n",
            "Zambia                               Africa    752614   2553000    9798529\n",
            "Zimbabwe                             Africa    390580   2853151   12185932\n"
          ]
        }
      ]
    },
    {
      "cell_type": "code",
      "metadata": {
        "colab": {
          "base_uri": "https://localhost:8080/"
        },
        "id": "9YWUyrsn6N0x",
        "outputId": "2eff48b3-2ee1-49d3-d294-8c22ff60f720"
      },
      "source": [
        "%%R\n",
        "head(ptfiletest)"
      ],
      "execution_count": 15,
      "outputs": [
        {
          "output_type": "stream",
          "name": "stdout",
          "text": [
            "               Continente Extension Pob1950  Pob2000\n",
            "Afghanistan          Asia    647500 8150368 25888797\n",
            "Albania            Europe     28748 1227156  3490435\n",
            "Algeria            Africa   2381740 8892718 31193917\n",
            "American Samoa    Oceania       199   19100    65446\n",
            "Andorra            Europe       468    6176    66824\n",
            "Angola             Africa   1246700 4117617 10132376\n"
          ]
        }
      ]
    },
    {
      "cell_type": "code",
      "metadata": {
        "colab": {
          "base_uri": "https://localhost:8080/"
        },
        "id": "NomHYli76N5p",
        "outputId": "c1c8c518-c69f-4bc7-b370-994da7cabcf9"
      },
      "source": [
        "%%R\n",
        "tail(ptfiletest)"
      ],
      "execution_count": 16,
      "outputs": [
        {
          "output_type": "stream",
          "name": "stdout",
          "text": [
            "                  Continente Extension Pob1950  Pob2000\n",
            "Wallis and Futuna    Oceania       274    6962    15283\n",
            "West Bank               Asia      5860  771165  2020298\n",
            "Western Sahara        Africa    266000    7326   244943\n",
            "Yemen                   Asia    527970 4777089 17479206\n",
            "Zambia                Africa    752614 2553000  9798529\n",
            "Zimbabwe              Africa    390580 2853151 12185932\n"
          ]
        }
      ]
    },
    {
      "cell_type": "code",
      "metadata": {
        "colab": {
          "base_uri": "https://localhost:8080/"
        },
        "id": "KN83vK-M6N7Q",
        "outputId": "fd5e092c-1014-40cc-d359-e49077dd7275"
      },
      "source": [
        "%%R\n",
        "ptfiletest[10:15,]"
      ],
      "execution_count": 17,
      "outputs": [
        {
          "output_type": "stream",
          "name": "stdout",
          "text": [
            "           Continente Extension Pob1950  Pob2000\n",
            "Armenia          Asia     29800 1355269  3344336\n",
            "Aruba         America       193   49712    69539\n",
            "Australia     Oceania   7686850 8267337 19164620\n",
            "Austria        Europe     83858 6935100  8131111\n",
            "Azerbaijan       Asia     86600 2885332  7748163\n",
            "Bahamas       America     13940   70498   290075\n"
          ]
        }
      ]
    }
  ]
}