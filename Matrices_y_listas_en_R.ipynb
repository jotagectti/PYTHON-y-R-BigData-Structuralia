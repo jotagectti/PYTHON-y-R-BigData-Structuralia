{
  "nbformat": 4,
  "nbformat_minor": 0,
  "metadata": {
    "colab": {
      "name": "Matrices y listas en R.ipynb",
      "provenance": [],
      "authorship_tag": "ABX9TyOIx827/rdAOj8848EXHZp7",
      "include_colab_link": true
    },
    "kernelspec": {
      "name": "python3",
      "display_name": "Python 3"
    },
    "language_info": {
      "name": "python"
    }
  },
  "cells": [
    {
      "cell_type": "markdown",
      "metadata": {
        "id": "view-in-github",
        "colab_type": "text"
      },
      "source": [
        "<a href=\"https://colab.research.google.com/github/jotagectti/PYTHON-y-R-BigData-Structuralia/blob/main/Matrices_y_listas_en_R.ipynb\" target=\"_parent\"><img src=\"https://colab.research.google.com/assets/colab-badge.svg\" alt=\"Open In Colab\"/></a>"
      ]
    },
    {
      "cell_type": "code",
      "metadata": {
        "id": "ZF5EfAL8fwyg"
      },
      "source": [
        "%load_ext rpy2.ipython"
      ],
      "execution_count": 2,
      "outputs": []
    },
    {
      "cell_type": "code",
      "metadata": {
        "id": "3xHyA85Sfyoo"
      },
      "source": [
        "%%R\n",
        "DATOS <- matrix(c(29,\"Mujer\",1.67,19,\"Hombre\",1.70,23,\"Mujer\",1.59,25,\"Mujer\",1.70),4,3,by=\"T\",dim=list(c(\"Wuarelia\",\"Luisito\",\"Estebana\",\"Rosa\"),c(\"edad\",\"genero\",\"estatura\")))"
      ],
      "execution_count": 8,
      "outputs": []
    },
    {
      "cell_type": "code",
      "metadata": {
        "colab": {
          "base_uri": "https://localhost:8080/"
        },
        "id": "ATbtXJkghXtf",
        "outputId": "0b50b887-5df4-49ed-9e4e-94bdbf853872"
      },
      "source": [
        "%%R\n",
        "DATOS"
      ],
      "execution_count": 6,
      "outputs": [
        {
          "output_type": "stream",
          "name": "stdout",
          "text": [
            "        edad genero   estatura\n",
            "Wuarelo \"29\" \"Mujer\"  \"1.67\"  \n",
            "Luisito \"19\" \"Hombre\" \"1.7\"   \n",
            "Esteban \"23\" \"Mujer\"  \"1.59\"  \n",
            "Rosa    \"25\" \"Mujer\"  \"1.7\"   \n"
          ]
        }
      ]
    },
    {
      "cell_type": "code",
      "metadata": {
        "colab": {
          "base_uri": "https://localhost:8080/"
        },
        "id": "N9KW4dPchiIb",
        "outputId": "81f0d0e3-eeb2-44bd-fb84-a803a588694b"
      },
      "source": [
        "%%R\n",
        "DATOS[,1]"
      ],
      "execution_count": 9,
      "outputs": [
        {
          "output_type": "stream",
          "name": "stdout",
          "text": [
            "Wuarelia  Luisito Estebana     Rosa \n",
            "    \"29\"     \"19\"     \"23\"     \"25\" \n"
          ]
        }
      ]
    },
    {
      "cell_type": "code",
      "metadata": {
        "colab": {
          "base_uri": "https://localhost:8080/"
        },
        "id": "5344SiBkhiLj",
        "outputId": "b1989b9a-0102-4f78-cf76-7e941c57ff22"
      },
      "source": [
        "%%R\n",
        "DATOS[2,]"
      ],
      "execution_count": 10,
      "outputs": [
        {
          "output_type": "stream",
          "name": "stdout",
          "text": [
            "    edad   genero estatura \n",
            "    \"19\" \"Hombre\"    \"1.7\" \n"
          ]
        }
      ]
    },
    {
      "cell_type": "code",
      "metadata": {
        "colab": {
          "base_uri": "https://localhost:8080/"
        },
        "id": "v2JY7kVnhiOx",
        "outputId": "30f85487-d00c-4020-dc5b-5d8991110e7c"
      },
      "source": [
        "%%R\n",
        "DATOS[3,3]"
      ],
      "execution_count": 11,
      "outputs": [
        {
          "output_type": "stream",
          "name": "stdout",
          "text": [
            "[1] \"1.59\"\n"
          ]
        }
      ]
    },
    {
      "cell_type": "code",
      "metadata": {
        "colab": {
          "base_uri": "https://localhost:8080/"
        },
        "id": "lkKBMHnbh3te",
        "outputId": "0355d35d-839a-47d1-b99d-b2a7ec555732"
      },
      "source": [
        "%%R\n",
        "DATOS[\"Rosa\",\"estatura\"]"
      ],
      "execution_count": 12,
      "outputs": [
        {
          "output_type": "stream",
          "name": "stdout",
          "text": [
            "[1] \"1.7\"\n"
          ]
        }
      ]
    },
    {
      "cell_type": "code",
      "metadata": {
        "colab": {
          "base_uri": "https://localhost:8080/"
        },
        "id": "smn4_mA6h3yT",
        "outputId": "3b6dba81-4ba3-4948-f12e-df55d1b290bd"
      },
      "source": [
        "%%R\n",
        "DATOS[c(2,4),]"
      ],
      "execution_count": 13,
      "outputs": [
        {
          "output_type": "stream",
          "name": "stdout",
          "text": [
            "        edad genero   estatura\n",
            "Luisito \"19\" \"Hombre\" \"1.7\"   \n",
            "Rosa    \"25\" \"Mujer\"  \"1.7\"   \n"
          ]
        }
      ]
    },
    {
      "cell_type": "code",
      "metadata": {
        "colab": {
          "base_uri": "https://localhost:8080/"
        },
        "id": "UL2YB16MiCN7",
        "outputId": "840c888e-570d-4a13-83fb-88600470212e"
      },
      "source": [
        "%%R\n",
        "DATOS[c(2,4),c(1,3)]"
      ],
      "execution_count": 14,
      "outputs": [
        {
          "output_type": "stream",
          "name": "stdout",
          "text": [
            "        edad estatura\n",
            "Luisito \"19\" \"1.7\"   \n",
            "Rosa    \"25\" \"1.7\"   \n"
          ]
        }
      ]
    }
  ]
}