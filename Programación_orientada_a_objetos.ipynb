{
  "nbformat": 4,
  "nbformat_minor": 0,
  "metadata": {
    "colab": {
      "name": "Programación orientada a objetos.ipynb",
      "provenance": [],
      "collapsed_sections": [],
      "authorship_tag": "ABX9TyMvWQ5dk4ix5PRWkFI8Bvwu",
      "include_colab_link": true
    },
    "kernelspec": {
      "name": "python3",
      "display_name": "Python 3"
    },
    "language_info": {
      "name": "python"
    }
  },
  "cells": [
    {
      "cell_type": "markdown",
      "metadata": {
        "id": "view-in-github",
        "colab_type": "text"
      },
      "source": [
        "<a href=\"https://colab.research.google.com/github/jotagectti/PYTHON-y-R-BigData-Structuralia/blob/main/Programaci%C3%B3n_orientada_a_objetos.ipynb\" target=\"_parent\"><img src=\"https://colab.research.google.com/assets/colab-badge.svg\" alt=\"Open In Colab\"/></a>"
      ]
    },
    {
      "cell_type": "markdown",
      "metadata": {
        "id": "O0VcwmvDdIlz"
      },
      "source": [
        "## **Video 10** "
      ]
    },
    {
      "cell_type": "code",
      "metadata": {
        "id": "3ScYedzNmYl1"
      },
      "source": [
        "class Alien():\n",
        "  #representa un alienigena\n",
        "  def __init__(self,edad,nombre,genero):\n",
        "    self.edad=edad\n",
        "    self.nombre=nombre\n",
        "    self.genero=genero\n",
        "  def presentar(self):\n",
        "    presentacion=\"NANO NANO soy {}, mi edad terricola es {} anos y mi genero humanoide prefercial es {}\"\n",
        "    print(presentacion.format(self.nombre,self.edad,self.genero))"
      ],
      "execution_count": 27,
      "outputs": []
    },
    {
      "cell_type": "code",
      "metadata": {
        "id": "72ycIKQ7nnud"
      },
      "source": [
        "Alien2 = Alien(3023,\"Trixlar\",\"No binario escamoso\")"
      ],
      "execution_count": 29,
      "outputs": []
    },
    {
      "cell_type": "code",
      "metadata": {
        "colab": {
          "base_uri": "https://localhost:8080/"
        },
        "id": "ig9PopFZnnzY",
        "outputId": "6d412394-5b82-4bb2-e76a-f6432014ae41"
      },
      "source": [
        "Alien2.presentar()"
      ],
      "execution_count": 30,
      "outputs": [
        {
          "output_type": "stream",
          "name": "stdout",
          "text": [
            "NANO NANO soy Trixlar, mi edad terricola es 3023 anos y mi genero humanoide prefercial es No binario escamoso\n"
          ]
        }
      ]
    }
  ]
}