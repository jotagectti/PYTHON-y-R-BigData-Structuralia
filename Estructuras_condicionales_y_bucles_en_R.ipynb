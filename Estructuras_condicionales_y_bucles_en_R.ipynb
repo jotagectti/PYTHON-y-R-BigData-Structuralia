{
  "nbformat": 4,
  "nbformat_minor": 0,
  "metadata": {
    "colab": {
      "name": "Estructuras condicionales y bucles en R.ipynb",
      "provenance": [],
      "authorship_tag": "ABX9TyNaSqtSYWFCg7ybqLcZkdKm",
      "include_colab_link": true
    },
    "kernelspec": {
      "name": "python3",
      "display_name": "Python 3"
    },
    "language_info": {
      "name": "python"
    }
  },
  "cells": [
    {
      "cell_type": "markdown",
      "metadata": {
        "id": "view-in-github",
        "colab_type": "text"
      },
      "source": [
        "<a href=\"https://colab.research.google.com/github/jotagectti/PYTHON-y-R-BigData-Structuralia/blob/main/Estructuras_condicionales_y_bucles_en_R.ipynb\" target=\"_parent\"><img src=\"https://colab.research.google.com/assets/colab-badge.svg\" alt=\"Open In Colab\"/></a>"
      ]
    },
    {
      "cell_type": "code",
      "metadata": {
        "id": "Rdo5oiTk4Gv1"
      },
      "source": [
        "%load_ext rpy2.ipython"
      ],
      "execution_count": 1,
      "outputs": []
    },
    {
      "cell_type": "code",
      "metadata": {
        "id": "LN561vMu4MXa"
      },
      "source": [
        "%%R\n",
        "A=3"
      ],
      "execution_count": 7,
      "outputs": []
    },
    {
      "cell_type": "code",
      "metadata": {
        "id": "GDxyjZb84MaN"
      },
      "source": [
        "%%R\n",
        "B=3"
      ],
      "execution_count": 8,
      "outputs": []
    },
    {
      "cell_type": "code",
      "metadata": {
        "colab": {
          "base_uri": "https://localhost:8080/"
        },
        "id": "zi2bCrBn4Mc_",
        "outputId": "fe29fc0d-4c98-4049-dbf1-0e4935b63f25"
      },
      "source": [
        "%%R\n",
        "if (A==B){\n",
        "    print('Igualitos')\n",
        "} else{\n",
        "    print('huy no, diferentes')\n",
        "}"
      ],
      "execution_count": 10,
      "outputs": [
        {
          "output_type": "stream",
          "name": "stdout",
          "text": [
            "[1] \"Igualitos\"\n"
          ]
        }
      ]
    },
    {
      "cell_type": "code",
      "metadata": {
        "id": "fCevkS_G4Mfr"
      },
      "source": [
        "%%R\n",
        "A=29"
      ],
      "execution_count": 11,
      "outputs": []
    },
    {
      "cell_type": "code",
      "metadata": {
        "id": "vOwMQDGB4MiP"
      },
      "source": [
        "%%R\n",
        "B=33"
      ],
      "execution_count": 12,
      "outputs": []
    },
    {
      "cell_type": "code",
      "metadata": {
        "colab": {
          "base_uri": "https://localhost:8080/"
        },
        "id": "ZVq39rZJ4Mk4",
        "outputId": "e43c0c55-82f0-4356-d021-636716ff8a23"
      },
      "source": [
        "%%R\n",
        "if (A==B){\n",
        "    print('Igualitos')\n",
        "} else{\n",
        "    print('huy no, diferentes')\n",
        "}"
      ],
      "execution_count": 13,
      "outputs": [
        {
          "output_type": "stream",
          "name": "stdout",
          "text": [
            "[1] \"huy no, diferentes\"\n"
          ]
        }
      ]
    },
    {
      "cell_type": "code",
      "metadata": {
        "id": "h6TZE8b54Moi"
      },
      "source": [
        "%%R\n",
        "B=1313\n",
        "#A=69"
      ],
      "execution_count": 21,
      "outputs": []
    },
    {
      "cell_type": "code",
      "metadata": {
        "id": "Sdc5yhDO4_cR"
      },
      "source": [
        "%%R\n",
        "A=69"
      ],
      "execution_count": 19,
      "outputs": []
    },
    {
      "cell_type": "code",
      "metadata": {
        "colab": {
          "base_uri": "https://localhost:8080/"
        },
        "id": "IayTd-jj4_fF",
        "outputId": "2a80964c-f319-4623-fe8c-8c95a6b61e71"
      },
      "source": [
        "%%R\n",
        "ifelse(A==B, 'igualitos','diferentes')"
      ],
      "execution_count": 23,
      "outputs": [
        {
          "output_type": "stream",
          "name": "stdout",
          "text": [
            "[1] \"igualitos\"\n"
          ]
        }
      ]
    }
  ]
}