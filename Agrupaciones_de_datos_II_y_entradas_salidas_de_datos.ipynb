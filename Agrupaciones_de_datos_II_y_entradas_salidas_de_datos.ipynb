{
  "nbformat": 4,
  "nbformat_minor": 0,
  "metadata": {
    "colab": {
      "name": "Agrupaciones de datos II y entradas/salidas de datos.ipynb",
      "provenance": [],
      "authorship_tag": "ABX9TyPM8t5ra84zJLyLhCdhtmMw",
      "include_colab_link": true
    },
    "kernelspec": {
      "name": "python3",
      "display_name": "Python 3"
    },
    "language_info": {
      "name": "python"
    }
  },
  "cells": [
    {
      "cell_type": "markdown",
      "metadata": {
        "id": "view-in-github",
        "colab_type": "text"
      },
      "source": [
        "<a href=\"https://colab.research.google.com/github/jotagectti/PYTHON-y-R-BigData-Structuralia/blob/main/Agrupaciones_de_datos_II_y_entradas_salidas_de_datos.ipynb\" target=\"_parent\"><img src=\"https://colab.research.google.com/assets/colab-badge.svg\" alt=\"Open In Colab\"/></a>"
      ]
    },
    {
      "cell_type": "markdown",
      "metadata": {
        "id": "lN7xiIMOIEys"
      },
      "source": [
        "##**Video 5**"
      ]
    },
    {
      "cell_type": "code",
      "metadata": {
        "colab": {
          "base_uri": "https://localhost:8080/"
        },
        "id": "W_VSOVi5H-gp",
        "outputId": "0f6749b5-4331-4357-faae-a5f870e2018d"
      },
      "source": [
        "#TUPLAS\n",
        "tupla=(2,2,1,1,3,3)\n",
        "tupla\n",
        "#no se puede alterar"
      ],
      "execution_count": 2,
      "outputs": [
        {
          "output_type": "execute_result",
          "data": {
            "text/plain": [
              "(2, 2, 1, 1, 3, 3)"
            ]
          },
          "metadata": {},
          "execution_count": 2
        }
      ]
    },
    {
      "cell_type": "code",
      "metadata": {
        "colab": {
          "base_uri": "https://localhost:8080/"
        },
        "id": "RLp4WpBQIN0T",
        "outputId": "5bed939f-4f2e-43c2-8338-c77bc7fd3740"
      },
      "source": [
        "pronombres = {'yo':'I','tu':'you','el':'he'}\n",
        "pronombres"
      ],
      "execution_count": 8,
      "outputs": [
        {
          "output_type": "execute_result",
          "data": {
            "text/plain": [
              "{'el': 'he', 'tu': 'you', 'yo': 'I'}"
            ]
          },
          "metadata": {},
          "execution_count": 8
        }
      ]
    },
    {
      "cell_type": "code",
      "metadata": {
        "colab": {
          "base_uri": "https://localhost:8080/"
        },
        "id": "v61H7HZEIN4a",
        "outputId": "6344d1ca-141d-476c-ec4a-477f94ce6009"
      },
      "source": [
        "from datetime import date\n",
        "hoy=date.today()\n",
        "hoy "
      ],
      "execution_count": 7,
      "outputs": [
        {
          "output_type": "execute_result",
          "data": {
            "text/plain": [
              "datetime.date(2021, 10, 15)"
            ]
          },
          "metadata": {},
          "execution_count": 7
        }
      ]
    },
    {
      "cell_type": "code",
      "metadata": {
        "colab": {
          "base_uri": "https://localhost:8080/"
        },
        "id": "k-8Fi0CgIN-8",
        "outputId": "5df34935-8fc9-41bd-b5be-3bd776301abd"
      },
      "source": [
        "from datetime import datetime\n",
        "fecha_actual = datetime.today()\n",
        "fecha_actual\n"
      ],
      "execution_count": 9,
      "outputs": [
        {
          "output_type": "execute_result",
          "data": {
            "text/plain": [
              "datetime.datetime(2021, 10, 15, 8, 48, 48, 39726)"
            ]
          },
          "metadata": {},
          "execution_count": 9
        }
      ]
    },
    {
      "cell_type": "code",
      "metadata": {
        "colab": {
          "base_uri": "https://localhost:8080/"
        },
        "id": "NJAbXwBWIOFF",
        "outputId": "a47f47dc-0744-4fc4-ecec-95f7dfd6ab31"
      },
      "source": [
        "hoy.day"
      ],
      "execution_count": 10,
      "outputs": [
        {
          "output_type": "execute_result",
          "data": {
            "text/plain": [
              "15"
            ]
          },
          "metadata": {},
          "execution_count": 10
        }
      ]
    },
    {
      "cell_type": "code",
      "metadata": {
        "colab": {
          "base_uri": "https://localhost:8080/"
        },
        "id": "03mO2NxAI9c5",
        "outputId": "3ad89a78-82e7-4559-9652-e2c843c9be36"
      },
      "source": [
        "hoy.month"
      ],
      "execution_count": 12,
      "outputs": [
        {
          "output_type": "execute_result",
          "data": {
            "text/plain": [
              "10"
            ]
          },
          "metadata": {},
          "execution_count": 12
        }
      ]
    },
    {
      "cell_type": "code",
      "metadata": {
        "colab": {
          "base_uri": "https://localhost:8080/"
        },
        "id": "NqwmozopI9hT",
        "outputId": "81ec554a-c4f5-4287-9ff9-9fa32effea0c"
      },
      "source": [
        "hoy.year"
      ],
      "execution_count": 13,
      "outputs": [
        {
          "output_type": "execute_result",
          "data": {
            "text/plain": [
              "2021"
            ]
          },
          "metadata": {},
          "execution_count": 13
        }
      ]
    }
  ]
}