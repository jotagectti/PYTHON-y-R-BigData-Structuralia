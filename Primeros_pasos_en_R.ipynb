{
  "nbformat": 4,
  "nbformat_minor": 0,
  "metadata": {
    "colab": {
      "name": "Primeros pasos en R.ipynb",
      "provenance": [],
      "authorship_tag": "ABX9TyPv11jSu5mcsrSuKufbe3rc",
      "include_colab_link": true
    },
    "kernelspec": {
      "name": "python3",
      "display_name": "Python 3"
    },
    "language_info": {
      "name": "python"
    }
  },
  "cells": [
    {
      "cell_type": "markdown",
      "metadata": {
        "id": "view-in-github",
        "colab_type": "text"
      },
      "source": [
        "<a href=\"https://colab.research.google.com/github/jotagectti/PYTHON-y-R-BigData-Structuralia/blob/main/Primeros_pasos_en_R.ipynb\" target=\"_parent\"><img src=\"https://colab.research.google.com/assets/colab-badge.svg\" alt=\"Open In Colab\"/></a>"
      ]
    },
    {
      "cell_type": "code",
      "metadata": {
        "id": "_3GX6eO1r4mw"
      },
      "source": [
        "#Use R in colab by:\n",
        "#https://towardsdatascience.com/how-to-use-r-in-google-colab-b6e02d736497\n",
        "%load_ext rpy2.ipython"
      ],
      "execution_count": 1,
      "outputs": []
    },
    {
      "cell_type": "code",
      "metadata": {
        "colab": {
          "base_uri": "https://localhost:8080/"
        },
        "id": "_LWYwJoHr8i2",
        "outputId": "40e72cd1-e0f9-47f8-a398-3b4bfbbeb76a"
      },
      "source": [
        "%%R\n",
        "print(\"Bienvenido!\")"
      ],
      "execution_count": 3,
      "outputs": [
        {
          "output_type": "stream",
          "name": "stdout",
          "text": [
            "[1] \"Bienvenido!\"\n"
          ]
        }
      ]
    },
    {
      "cell_type": "code",
      "metadata": {
        "colab": {
          "base_uri": "https://localhost:8080/"
        },
        "id": "BCr_YUS3seR7",
        "outputId": "eefd4156-78e3-42e8-96cb-d063dbeaabb8"
      },
      "source": [
        "%%R\n",
        "4+3"
      ],
      "execution_count": 4,
      "outputs": [
        {
          "output_type": "stream",
          "name": "stdout",
          "text": [
            "[1] 7\n"
          ]
        }
      ]
    },
    {
      "cell_type": "code",
      "metadata": {
        "colab": {
          "base_uri": "https://localhost:8080/"
        },
        "id": "QOfLOL3hseVu",
        "outputId": "1f3c76c6-0d74-4253-be72-af84b4502660"
      },
      "source": [
        "%%R\n",
        "7"
      ],
      "execution_count": 7,
      "outputs": [
        {
          "output_type": "stream",
          "name": "stdout",
          "text": [
            "[1] 7\n"
          ]
        }
      ]
    },
    {
      "cell_type": "code",
      "metadata": {
        "colab": {
          "base_uri": "https://localhost:8080/"
        },
        "id": "Jt-HczeKsllm",
        "outputId": "edaa5108-8d37-4f09-d1f0-f94625957628"
      },
      "source": [
        "%%R\n",
        "4*3"
      ],
      "execution_count": 9,
      "outputs": [
        {
          "output_type": "stream",
          "name": "stdout",
          "text": [
            "[1] 12\n"
          ]
        }
      ]
    },
    {
      "cell_type": "code",
      "metadata": {
        "colab": {
          "base_uri": "https://localhost:8080/"
        },
        "id": "e5teABFKsl84",
        "outputId": "2ad1dbda-05fa-4b77-be54-925ffec27d39"
      },
      "source": [
        "%%R\n",
        "12/3"
      ],
      "execution_count": 10,
      "outputs": [
        {
          "output_type": "stream",
          "name": "stdout",
          "text": [
            "[1] 4\n"
          ]
        }
      ]
    },
    {
      "cell_type": "code",
      "metadata": {
        "colab": {
          "base_uri": "https://localhost:8080/"
        },
        "id": "ILnqJnAUsvcm",
        "outputId": "60a7cbd3-2b59-4c48-f00a-d2559e9d70de"
      },
      "source": [
        "%%R\n",
        "7%/%2"
      ],
      "execution_count": 11,
      "outputs": [
        {
          "output_type": "stream",
          "name": "stdout",
          "text": [
            "[1] 3\n"
          ]
        }
      ]
    },
    {
      "cell_type": "code",
      "metadata": {
        "colab": {
          "base_uri": "https://localhost:8080/"
        },
        "id": "3E5tAWt4svfs",
        "outputId": "79f3873e-2f4f-4b1f-8d4c-b6d8795e53d2"
      },
      "source": [
        "%%R\n",
        "7%%2"
      ],
      "execution_count": 13,
      "outputs": [
        {
          "output_type": "stream",
          "name": "stdout",
          "text": [
            "[1] 1\n"
          ]
        }
      ]
    },
    {
      "cell_type": "code",
      "metadata": {
        "colab": {
          "base_uri": "https://localhost:8080/"
        },
        "id": "PzUZaxJ2sviR",
        "outputId": "b383afbc-6be5-4166-f1fc-363670a33e51"
      },
      "source": [
        "%%R\n",
        "help(\"sum\")"
      ],
      "execution_count": 14,
      "outputs": [
        {
          "output_type": "stream",
          "name": "stdout",
          "text": [
            "File: /tmp/RtmpYt1kpc/Rtxt415b542b7\n",
            "sum                    package:base                    R Documentation\n",
            "\n",
            "\n",
            "\n",
            "_\bS_\bu_\bm _\bo_\bf _\bV_\be_\bc_\bt_\bo_\br _\bE_\bl_\be_\bm_\be_\bn_\bt_\bs\n",
            "\n",
            "\n",
            "\n",
            "_\bD_\be_\bs_\bc_\br_\bi_\bp_\bt_\bi_\bo_\bn:\n",
            "\n",
            "\n",
            "\n",
            "     ‘sum’ returns the sum of all the values present in its arguments.\n",
            "\n",
            "\n",
            "\n",
            "_\bU_\bs_\ba_\bg_\be:\n",
            "\n",
            "\n",
            "\n",
            "     sum(..., na.rm = FALSE)\n",
            "\n",
            "     \n",
            "\n",
            "_\bA_\br_\bg_\bu_\bm_\be_\bn_\bt_\bs:\n",
            "\n",
            "\n",
            "\n",
            "     ...: numeric or complex or logical vectors.\n",
            "\n",
            "\n",
            "\n",
            "   na.rm: logical.  Should missing values (including ‘NaN’) be removed?\n",
            "\n",
            "\n",
            "\n",
            "_\bD_\be_\bt_\ba_\bi_\bl_\bs:\n",
            "\n",
            "\n",
            "\n",
            "     This is a generic function: methods can be defined for it directly\n",
            "\n",
            "     or via the ‘Summary’ group generic.  For this to work properly,\n",
            "\n",
            "     the arguments ‘...’ should be unnamed, and dispatch is on the\n",
            "\n",
            "     first argument.\n",
            "\n",
            "\n",
            "\n",
            "     If ‘na.rm’ is ‘FALSE’ an ‘NA’ or ‘NaN’ value in any of the\n",
            "\n",
            "     arguments will cause a value of ‘NA’ or ‘NaN’ to be returned,\n",
            "\n",
            "     otherwise ‘NA’ and ‘NaN’ values are ignored.\n",
            "\n",
            "\n",
            "\n",
            "     Logical true values are regarded as one, false values as zero.\n",
            "\n",
            "     For historical reasons, ‘NULL’ is accepted and treated as if it\n",
            "\n",
            "     were ‘integer(0)’.\n",
            "\n",
            "\n",
            "\n",
            "     Loss of accuracy can occur when summing values of different signs:\n",
            "\n",
            "     this can even occur for sufficiently long integer inputs if the\n",
            "\n",
            "     partial sums would cause integer overflow.  Where possible\n",
            "\n",
            "     extended-precision accumulators are used, typically well supported\n",
            "\n",
            "     with C99 and newer, but possibly platform-dependent.\n",
            "\n",
            "\n",
            "\n",
            "_\bV_\ba_\bl_\bu_\be:\n",
            "\n",
            "\n",
            "\n",
            "     The sum.  If all of the ‘...’ arguments are of type integer or\n",
            "\n",
            "     logical, then the sum is ‘integer’ when possible and is ‘double’\n",
            "\n",
            "     otherwise.  Integer overflow should no longer happen since R\n",
            "\n",
            "     version 3.5.0.  For other argument types it is a length-one\n",
            "\n",
            "     numeric (‘double’) or complex vector.\n",
            "\n",
            "\n",
            "\n",
            "     *NB:* the sum of an empty set is zero, by definition.\n",
            "\n",
            "\n",
            "\n",
            "_\bS_\b4 _\bm_\be_\bt_\bh_\bo_\bd_\bs:\n",
            "\n",
            "\n",
            "\n",
            "     This is part of the S4 ‘Summary’ group generic.  Methods for it\n",
            "\n",
            "     must use the signature ‘x, ..., na.rm’.\n",
            "\n",
            "\n",
            "\n",
            "     ‘plotmath’ for the use of ‘sum’ in plot annotation.\n",
            "\n",
            "\n",
            "\n",
            "_\bR_\be_\bf_\be_\br_\be_\bn_\bc_\be_\bs:\n",
            "\n",
            "\n",
            "\n",
            "     Becker, R. A., Chambers, J. M. and Wilks, A. R. (1988) _The New S\n",
            "\n",
            "     Language_.  Wadsworth & Brooks/Cole.\n",
            "\n",
            "\n",
            "\n",
            "_\bS_\be_\be _\bA_\bl_\bs_\bo:\n",
            "\n",
            "\n",
            "\n",
            "     ‘colSums’ for row and column sums.\n",
            "\n",
            "\n",
            "\n",
            "_\bE_\bx_\ba_\bm_\bp_\bl_\be_\bs:\n",
            "\n",
            "\n",
            "\n",
            "     ## Pass a vector to sum, and it will add the elements together.\n",
            "\n",
            "     sum(1:5)\n",
            "\n",
            "     \n",
            "\n",
            "     ## Pass several numbers to sum, and it also adds the elements.\n",
            "\n",
            "     sum(1, 2, 3, 4, 5)\n",
            "\n",
            "     \n",
            "\n",
            "     ## In fact, you can pass vectors into several arguments, and everything gets added.\n",
            "\n",
            "     sum(1:2, 3:5)\n",
            "\n",
            "     \n",
            "\n",
            "     ## If there are missing values, the sum is unknown, i.e., also missing, ....\n",
            "\n",
            "     sum(1:5, NA)\n",
            "\n",
            "     ## ... unless  we exclude missing values explicitly:\n",
            "\n",
            "     sum(1:5, NA, na.rm = TRUE)\n",
            "\n",
            "     \n",
            "\n",
            "---\n"
          ]
        }
      ]
    }
  ]
}