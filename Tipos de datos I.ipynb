{
  "nbformat": 4,
  "nbformat_minor": 0,
  "metadata": {
    "colab": {
      "name": "Untitled11.ipynb",
      "provenance": [],
      "authorship_tag": "ABX9TyMnCzFlmoy62fOdtCpe4prQ",
      "include_colab_link": true
    },
    "kernelspec": {
      "name": "python3",
      "display_name": "Python 3"
    },
    "language_info": {
      "name": "python"
    }
  },
  "cells": [
    {
      "cell_type": "markdown",
      "metadata": {
        "id": "view-in-github",
        "colab_type": "text"
      },
      "source": [
        "<a href=\"https://colab.research.google.com/github/jotagectti/PYTHON-y-R-BigData-Structuralia/blob/main/Tipos%20de%20datos%20I.ipynb\" target=\"_parent\"><img src=\"https://colab.research.google.com/assets/colab-badge.svg\" alt=\"Open In Colab\"/></a>"
      ]
    },
    {
      "cell_type": "markdown",
      "metadata": {
        "id": "XyjAQcMFCOxn"
      },
      "source": [
        "##**Video 2**"
      ]
    },
    {
      "cell_type": "code",
      "metadata": {
        "colab": {
          "base_uri": "https://localhost:8080/"
        },
        "id": "hX7M5EgbCKPc",
        "outputId": "600f3fc5-3e33-46e4-bbbf-a02c65708118"
      },
      "source": [
        "17/3"
      ],
      "execution_count": 2,
      "outputs": [
        {
          "output_type": "execute_result",
          "data": {
            "text/plain": [
              "5.666666666666667"
            ]
          },
          "metadata": {},
          "execution_count": 2
        }
      ]
    },
    {
      "cell_type": "code",
      "metadata": {
        "colab": {
          "base_uri": "https://localhost:8080/"
        },
        "id": "zkYa_6gZCTLO",
        "outputId": "54f94b08-71e3-4aa6-ce08-571cd11c2b3d"
      },
      "source": [
        "17//3"
      ],
      "execution_count": 3,
      "outputs": [
        {
          "output_type": "execute_result",
          "data": {
            "text/plain": [
              "5"
            ]
          },
          "metadata": {},
          "execution_count": 3
        }
      ]
    },
    {
      "cell_type": "code",
      "metadata": {
        "colab": {
          "base_uri": "https://localhost:8080/"
        },
        "id": "bXhgOAN2CTOJ",
        "outputId": "f2e1f9a0-52ab-4c83-ef59-a5da14737345"
      },
      "source": [
        "17%3"
      ],
      "execution_count": 4,
      "outputs": [
        {
          "output_type": "execute_result",
          "data": {
            "text/plain": [
              "2"
            ]
          },
          "metadata": {},
          "execution_count": 4
        }
      ]
    },
    {
      "cell_type": "code",
      "metadata": {
        "colab": {
          "base_uri": "https://localhost:8080/"
        },
        "id": "B1vtxDJBCTQ5",
        "outputId": "e26b19c9-c35c-4eaf-875c-60233ccc2765"
      },
      "source": [
        "#redondeo\n",
        "round(17/3)"
      ],
      "execution_count": 5,
      "outputs": [
        {
          "output_type": "execute_result",
          "data": {
            "text/plain": [
              "6"
            ]
          },
          "metadata": {},
          "execution_count": 5
        }
      ]
    },
    {
      "cell_type": "code",
      "metadata": {
        "colab": {
          "base_uri": "https://localhost:8080/"
        },
        "id": "KGmnHS4yCTTk",
        "outputId": "3bf76f26-b8e9-49ba-93c8-dcf943284daf"
      },
      "source": [
        "round(17/3,2)"
      ],
      "execution_count": 6,
      "outputs": [
        {
          "output_type": "execute_result",
          "data": {
            "text/plain": [
              "5.67"
            ]
          },
          "metadata": {},
          "execution_count": 6
        }
      ]
    },
    {
      "cell_type": "code",
      "metadata": {
        "colab": {
          "base_uri": "https://localhost:8080/"
        },
        "id": "yLcjB7xKDPIB",
        "outputId": "478b87de-ce32-4f2a-92de-80ae6462b423"
      },
      "source": [
        "from math import trunc\n",
        "\n",
        "trunc(17/3)"
      ],
      "execution_count": 7,
      "outputs": [
        {
          "output_type": "execute_result",
          "data": {
            "text/plain": [
              "5"
            ]
          },
          "metadata": {},
          "execution_count": 7
        }
      ]
    },
    {
      "cell_type": "code",
      "metadata": {
        "colab": {
          "base_uri": "https://localhost:8080/"
        },
        "id": "ZSpbzvEtDPLl",
        "outputId": "f06b1d0b-2b73-4dbf-f47e-b3dab5a3f981"
      },
      "source": [
        "from math import ceil\n",
        "\n",
        "ceil(17/3)\n",
        "#entero superior mas cercano"
      ],
      "execution_count": 10,
      "outputs": [
        {
          "output_type": "execute_result",
          "data": {
            "text/plain": [
              "6"
            ]
          },
          "metadata": {},
          "execution_count": 10
        }
      ]
    },
    {
      "cell_type": "code",
      "metadata": {
        "colab": {
          "base_uri": "https://localhost:8080/"
        },
        "id": "N-ODwcESDc6i",
        "outputId": "77e132d5-818b-49e6-89b0-b3fc1aa14eac"
      },
      "source": [
        "from math import floor\n",
        "\n",
        "floor(17/3)\n",
        "#entero inferior mas cercano"
      ],
      "execution_count": 12,
      "outputs": [
        {
          "output_type": "execute_result",
          "data": {
            "text/plain": [
              "5"
            ]
          },
          "metadata": {},
          "execution_count": 12
        }
      ]
    }
  ]
}