{
  "nbformat": 4,
  "nbformat_minor": 0,
  "metadata": {
    "colab": {
      "name": "Bucle for, contadores, testigos, acumuladores e iteración.ipynb",
      "provenance": [],
      "collapsed_sections": [],
      "authorship_tag": "ABX9TyMkzbVsWdnqHqZwB1hpU6xX",
      "include_colab_link": true
    },
    "kernelspec": {
      "name": "python3",
      "display_name": "Python 3"
    },
    "language_info": {
      "name": "python"
    }
  },
  "cells": [
    {
      "cell_type": "markdown",
      "metadata": {
        "id": "view-in-github",
        "colab_type": "text"
      },
      "source": [
        "<a href=\"https://colab.research.google.com/github/jotagectti/PYTHON-y-R-BigData-Structuralia/blob/main/Bucle_for%2C_contadores%2C_testigos%2C_acumuladores_e_iteraci%C3%B3n.ipynb\" target=\"_parent\"><img src=\"https://colab.research.google.com/assets/colab-badge.svg\" alt=\"Open In Colab\"/></a>"
      ]
    },
    {
      "cell_type": "markdown",
      "metadata": {
        "id": "O0VcwmvDdIlz"
      },
      "source": [
        "## **Video 8** "
      ]
    },
    {
      "cell_type": "code",
      "metadata": {
        "colab": {
          "base_uri": "https://localhost:8080/"
        },
        "id": "L0kWZZ4Lkxmy",
        "outputId": "f61c69c7-0813-4294-ff81-d7683e95c2e4"
      },
      "source": [
        "contador = 0\n",
        "\n",
        "for i in range(1,10):\n",
        "  modulo=i%2\n",
        "  if modulo == 1:\n",
        "    contador = contador+1\n",
        "print('total de '+str(contador)+' numeros impares')"
      ],
      "execution_count": 8,
      "outputs": [
        {
          "output_type": "stream",
          "name": "stdout",
          "text": [
            "total de 5 numeros impares\n"
          ]
        }
      ]
    }
  ]
}