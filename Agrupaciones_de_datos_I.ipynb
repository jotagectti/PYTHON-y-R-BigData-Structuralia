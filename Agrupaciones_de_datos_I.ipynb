{
  "nbformat": 4,
  "nbformat_minor": 0,
  "metadata": {
    "colab": {
      "name": "Agrupaciones de datos I.ipynb",
      "provenance": [],
      "authorship_tag": "ABX9TyM5I/H75EGxBbETYhTQ0V1E",
      "include_colab_link": true
    },
    "kernelspec": {
      "name": "python3",
      "display_name": "Python 3"
    },
    "language_info": {
      "name": "python"
    }
  },
  "cells": [
    {
      "cell_type": "markdown",
      "metadata": {
        "id": "view-in-github",
        "colab_type": "text"
      },
      "source": [
        "<a href=\"https://colab.research.google.com/github/jotagectti/PYTHON-y-R-BigData-Structuralia/blob/main/Agrupaciones_de_datos_I.ipynb\" target=\"_parent\"><img src=\"https://colab.research.google.com/assets/colab-badge.svg\" alt=\"Open In Colab\"/></a>"
      ]
    },
    {
      "cell_type": "markdown",
      "metadata": {
        "id": "Yy9BXxHCGI09"
      },
      "source": [
        "##**Video4**"
      ]
    },
    {
      "cell_type": "code",
      "metadata": {
        "colab": {
          "base_uri": "https://localhost:8080/"
        },
        "id": "hSLrJXHXGG7-",
        "outputId": "99169d48-8454-4240-f1b8-33953a14015d"
      },
      "source": [
        "conjunto = {2,2,1,1,3,3}\n",
        "conjunto"
      ],
      "execution_count": 1,
      "outputs": [
        {
          "output_type": "execute_result",
          "data": {
            "text/plain": [
              "{1, 2, 3}"
            ]
          },
          "metadata": {},
          "execution_count": 1
        }
      ]
    },
    {
      "cell_type": "code",
      "metadata": {
        "colab": {
          "base_uri": "https://localhost:8080/"
        },
        "id": "DsPqmwY4GQzn",
        "outputId": "b90729f6-07a7-4f0d-dcd5-49e50b3426f0"
      },
      "source": [
        "lista = [2,2,1,1,3,3]\n",
        "lista"
      ],
      "execution_count": 2,
      "outputs": [
        {
          "output_type": "execute_result",
          "data": {
            "text/plain": [
              "[2, 2, 1, 1, 3, 3]"
            ]
          },
          "metadata": {},
          "execution_count": 2
        }
      ]
    },
    {
      "cell_type": "markdown",
      "metadata": {
        "id": "ICBBVookG0Ax"
      },
      "source": [
        "Un conjunto es una colección que no está ordenada ni indexada, y no permite duplicados. En Python, los conjuntos se escriben entre llaves. Una lista es una colección ordenada y modificable. En Python las listas se escriben entre corchetes."
      ]
    },
    {
      "cell_type": "markdown",
      "metadata": {
        "id": "usxiaO30G8hK"
      },
      "source": [
        "#Lista\n",
        "\n",
        "Una lista es una colección ordenada y modificable. En Python las listas se escriben entre corchetes.\n",
        "\n",
        "example list\n",
        "\n",
        "newlist =[\"one\", \"two\", \"three\"]\n",
        "\n",
        "* Accede a los elementos de la lista haciendo referencia al número de índice\n",
        "* Las listas son mutables."
      ]
    },
    {
      "cell_type": "markdown",
      "metadata": {
        "id": "OxLiucuBG8lE"
      },
      "source": [
        "#Conjunto\n",
        "\n",
        "Un conjunto es una colección que no está ordenada ni indexada, y no permite duplicados. En Python, los conjuntos se escriben entre llaves.\n",
        "\n",
        "example set\n",
        "\n",
        "newset = {\"one\", \"two\", \"three\"}\n",
        "* No puede acceder a los elementos de un conjunto haciendo referencia a un índice\n",
        "* Los conjuntos son mutables\n",
        "* Son útiles para verificar duplicados"
      ]
    }
  ]
}