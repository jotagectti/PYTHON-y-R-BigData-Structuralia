{
  "nbformat": 4,
  "nbformat_minor": 0,
  "metadata": {
    "colab": {
      "name": "Tipos de datos II y variables.ipynb",
      "provenance": [],
      "authorship_tag": "ABX9TyMX6dd06O823EoFV2dhJiWt",
      "include_colab_link": true
    },
    "kernelspec": {
      "name": "python3",
      "display_name": "Python 3"
    },
    "language_info": {
      "name": "python"
    }
  },
  "cells": [
    {
      "cell_type": "markdown",
      "metadata": {
        "id": "view-in-github",
        "colab_type": "text"
      },
      "source": [
        "<a href=\"https://colab.research.google.com/github/jotagectti/PYTHON-y-R-BigData-Structuralia/blob/main/Tipos_de_datos_II_y_variables.ipynb\" target=\"_parent\"><img src=\"https://colab.research.google.com/assets/colab-badge.svg\" alt=\"Open In Colab\"/></a>"
      ]
    },
    {
      "cell_type": "markdown",
      "metadata": {
        "id": "-UJUAeEIEAjI"
      },
      "source": [
        "##**Video 3**"
      ]
    },
    {
      "cell_type": "code",
      "metadata": {
        "colab": {
          "base_uri": "https://localhost:8080/"
        },
        "id": "edsgf-xiD9Ed",
        "outputId": "8396139b-f992-4086-f58a-ab9aea6cb47d"
      },
      "source": [
        "(1+1j)/(1+2j)"
      ],
      "execution_count": 1,
      "outputs": [
        {
          "output_type": "execute_result",
          "data": {
            "text/plain": [
              "(0.6-0.2j)"
            ]
          },
          "metadata": {},
          "execution_count": 1
        }
      ]
    },
    {
      "cell_type": "code",
      "metadata": {
        "colab": {
          "base_uri": "https://localhost:8080/",
          "height": 53
        },
        "id": "mguGj4PAEJen",
        "outputId": "c7735ba6-4ff2-4cd1-de5f-2c3d02ae3b79"
      },
      "source": [
        "from sympy import I\n",
        "#import sympy\n",
        "(1+I)/(1+2*I)"
      ],
      "execution_count": 3,
      "outputs": [
        {
          "output_type": "execute_result",
          "data": {
            "text/latex": "$\\displaystyle \\frac{\\left(1 - 2 i\\right) \\left(1 + i\\right)}{5}$",
            "text/plain": [
              "(1 - 2*I)*(1 + I)/5"
            ]
          },
          "metadata": {},
          "execution_count": 3
        }
      ]
    },
    {
      "cell_type": "code",
      "metadata": {
        "colab": {
          "base_uri": "https://localhost:8080/",
          "height": 51
        },
        "id": "wqT9sBPwEJhF",
        "outputId": "8e6d7ff7-c59b-4cf1-d300-b1e7e3175bd5"
      },
      "source": [
        "from sympy import simplify\n",
        "\n",
        "(1+I)/(1+2*I)\n",
        "simplify(_)"
      ],
      "execution_count": 4,
      "outputs": [
        {
          "output_type": "execute_result",
          "data": {
            "text/latex": "$\\displaystyle \\frac{3}{5} - \\frac{i}{5}$",
            "text/plain": [
              "3/5 - I/5"
            ]
          },
          "metadata": {},
          "execution_count": 4
        }
      ]
    },
    {
      "cell_type": "code",
      "metadata": {
        "colab": {
          "base_uri": "https://localhost:8080/",
          "height": 51
        },
        "id": "JMU1jzrLEJll",
        "outputId": "96b3eef6-845e-457e-b9e5-70b9b3b8fee9"
      },
      "source": [
        "simplify((1+I)/(1+2*I))"
      ],
      "execution_count": 5,
      "outputs": [
        {
          "output_type": "execute_result",
          "data": {
            "text/latex": "$\\displaystyle \\frac{3}{5} - \\frac{i}{5}$",
            "text/plain": [
              "3/5 - I/5"
            ]
          },
          "metadata": {},
          "execution_count": 5
        }
      ]
    }
  ]
}