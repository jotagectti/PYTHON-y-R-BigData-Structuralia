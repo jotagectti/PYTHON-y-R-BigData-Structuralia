{
  "nbformat": 4,
  "nbformat_minor": 0,
  "metadata": {
    "colab": {
      "name": "Estructuras en Python.ipynb",
      "provenance": [],
      "collapsed_sections": [],
      "authorship_tag": "ABX9TyMdQhxxFa42nhxBp1kVMl9s",
      "include_colab_link": true
    },
    "kernelspec": {
      "name": "python3",
      "display_name": "Python 3"
    },
    "language_info": {
      "name": "python"
    }
  },
  "cells": [
    {
      "cell_type": "markdown",
      "metadata": {
        "id": "view-in-github",
        "colab_type": "text"
      },
      "source": [
        "<a href=\"https://colab.research.google.com/github/jotagectti/PYTHON-y-R-BigData-Structuralia/blob/main/Estructuras_en_Python.ipynb\" target=\"_parent\"><img src=\"https://colab.research.google.com/assets/colab-badge.svg\" alt=\"Open In Colab\"/></a>"
      ]
    },
    {
      "cell_type": "markdown",
      "metadata": {
        "id": "O0VcwmvDdIlz"
      },
      "source": [
        "## **Video 6**"
      ]
    },
    {
      "cell_type": "code",
      "metadata": {
        "colab": {
          "base_uri": "https://localhost:8080/"
        },
        "id": "Qf1qJIl9ctKN",
        "outputId": "fc54591b-5eed-4e0f-d331-eb8d6bde09e4"
      },
      "source": [
        "#pedir numero a usuario\n",
        "num1 =input(\"primer num: \")\n",
        "num2 =input(\"segundo num: \")\n",
        "# pedir elegir suma o resta\n",
        "opcion=input('Elige 1.Suma 2.Resta')\n",
        "try:\n",
        "  num1=int(num1)\n",
        "  pass\n",
        "except:\n",
        "  num1=print('numero elegido #1 no es numero, vuelve a intentar')\n",
        "  num1=input('numero #1 es:')\n",
        "  num1=int(num1)\n",
        "\n",
        "try:\n",
        "  num2=int(num2)\n",
        "  pass\n",
        "except:\n",
        "  num2=print('numero elegido #2 no es numero, vuelve a intentar')\n",
        "  num2=input('numero #2 es:')\n",
        "  num2=int(num2)\n",
        "opcion=int(opcion)\n",
        "\n",
        "if opcion==1:\n",
        "  print(num1+num2)\n",
        "elif opcion==2:\n",
        "  print(num1-num2)\n",
        "else:\n",
        "  print(\"invalido\")"
      ],
      "execution_count": 3,
      "outputs": [
        {
          "output_type": "stream",
          "name": "stdout",
          "text": [
            "primer num: 23\n",
            "segundo num: error\n",
            "Elige 1.Suma 2.Resta2\n",
            "numero elegido #2 no es numero, vuelve a intentar\n",
            "numero #2 es:69\n",
            "-46\n"
          ]
        }
      ]
    }
  ]
}