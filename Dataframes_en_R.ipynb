{
  "nbformat": 4,
  "nbformat_minor": 0,
  "metadata": {
    "colab": {
      "name": "Dataframes en R.ipynb",
      "provenance": [],
      "authorship_tag": "ABX9TyNYEbjtUtuUC1LJTPiez2wQ",
      "include_colab_link": true
    },
    "kernelspec": {
      "name": "python3",
      "display_name": "Python 3"
    },
    "language_info": {
      "name": "python"
    }
  },
  "cells": [
    {
      "cell_type": "markdown",
      "metadata": {
        "id": "view-in-github",
        "colab_type": "text"
      },
      "source": [
        "<a href=\"https://colab.research.google.com/github/jotagectti/PYTHON-y-R-BigData-Structuralia/blob/main/Dataframes_en_R.ipynb\" target=\"_parent\"><img src=\"https://colab.research.google.com/assets/colab-badge.svg\" alt=\"Open In Colab\"/></a>"
      ]
    },
    {
      "cell_type": "code",
      "metadata": {
        "id": "eqAgth4TiirW"
      },
      "source": [
        "%load_ext rpy2.ipython"
      ],
      "execution_count": 1,
      "outputs": []
    },
    {
      "cell_type": "code",
      "metadata": {
        "id": "QG-u5TVSil25"
      },
      "source": [
        "%%R\n",
        "NOMBRES <- c(\"Terrie\",\"Soe\",\"Panchita\",\"Catalina\")"
      ],
      "execution_count": 2,
      "outputs": []
    },
    {
      "cell_type": "code",
      "metadata": {
        "id": "LnXx4jfLil5l"
      },
      "source": [
        "%%R\n",
        "EDADES <- c(7,5,2,1)"
      ],
      "execution_count": 4,
      "outputs": []
    },
    {
      "cell_type": "code",
      "metadata": {
        "id": "-D1BRaviil8j"
      },
      "source": [
        "%%R\n",
        "GENERO <- c(\"Perro\",\"Perro\",\"Gato\",\"Pajaro\")"
      ],
      "execution_count": 6,
      "outputs": []
    },
    {
      "cell_type": "code",
      "metadata": {
        "colab": {
          "base_uri": "https://localhost:8080/"
        },
        "id": "PvucETfail_A",
        "outputId": "03cf2ada-6bf2-4f86-a67b-00d7f2098ccb"
      },
      "source": [
        "%%R\n",
        "NOMBRES "
      ],
      "execution_count": 10,
      "outputs": [
        {
          "output_type": "stream",
          "name": "stdout",
          "text": [
            "[1] \"Terrie\"   \"Soe\"      \"Panchita\" \"Catalina\"\n"
          ]
        }
      ]
    },
    {
      "cell_type": "code",
      "metadata": {
        "colab": {
          "base_uri": "https://localhost:8080/"
        },
        "id": "-hafaP4CjSu2",
        "outputId": "baab046d-a44c-46ae-f50a-3e454d31af21"
      },
      "source": [
        "%%R\n",
        "EDADES"
      ],
      "execution_count": 11,
      "outputs": [
        {
          "output_type": "stream",
          "name": "stdout",
          "text": [
            "[1] 7 5 2 1\n"
          ]
        }
      ]
    },
    {
      "cell_type": "code",
      "metadata": {
        "colab": {
          "base_uri": "https://localhost:8080/"
        },
        "id": "OtNM0FNfjSyd",
        "outputId": "d5aab3bc-ea03-4999-8538-ea3ceb067f81"
      },
      "source": [
        "%%R\n",
        "GENERO"
      ],
      "execution_count": 13,
      "outputs": [
        {
          "output_type": "stream",
          "name": "stdout",
          "text": [
            "[1] \"Perro\"  \"Perro\"  \"Gato\"   \"Pajaro\"\n"
          ]
        }
      ]
    },
    {
      "cell_type": "code",
      "metadata": {
        "id": "EYcf7uWbjYP3"
      },
      "source": [
        "%%R\n",
        "RESPUESTAS <- c(\"Guau\",\"Guau\",\"Meow\",\"Tuitui\")"
      ],
      "execution_count": 15,
      "outputs": []
    },
    {
      "cell_type": "code",
      "metadata": {
        "colab": {
          "base_uri": "https://localhost:8080/"
        },
        "id": "st1UchRojYTC",
        "outputId": "d7244e64-92dd-44d7-e9fe-a5daf552718b"
      },
      "source": [
        "%%R\n",
        "RESPUESTAS"
      ],
      "execution_count": 16,
      "outputs": [
        {
          "output_type": "stream",
          "name": "stdout",
          "text": [
            "[1] \"Guau\"   \"Guau\"   \"Meow\"   \"Tuitui\"\n"
          ]
        }
      ]
    },
    {
      "cell_type": "code",
      "metadata": {
        "id": "WfVrx0PjjYWK"
      },
      "source": [
        "%%R\n",
        "ENCUESTA <- data.frame(NOMBRES,EDADES,GENERO,RESPUESTAS)"
      ],
      "execution_count": 17,
      "outputs": []
    },
    {
      "cell_type": "code",
      "metadata": {
        "colab": {
          "base_uri": "https://localhost:8080/"
        },
        "id": "OgOm_UXtjyeu",
        "outputId": "cc948996-7588-46f0-ede9-bb66f793b7a8"
      },
      "source": [
        "%%R\n",
        "ENCUESTA"
      ],
      "execution_count": 18,
      "outputs": [
        {
          "output_type": "stream",
          "name": "stdout",
          "text": [
            "   NOMBRES EDADES GENERO RESPUESTAS\n",
            "1   Terrie      7  Perro       Guau\n",
            "2      Soe      5  Perro       Guau\n",
            "3 Panchita      2   Gato       Meow\n",
            "4 Catalina      1 Pajaro     Tuitui\n"
          ]
        }
      ]
    }
  ]
}